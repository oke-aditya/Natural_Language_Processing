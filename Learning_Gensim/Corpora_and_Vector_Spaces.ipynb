{
  "nbformat": 4,
  "nbformat_minor": 0,
  "metadata": {
    "colab": {
      "name": " Corpora and Vector Spaces.ipynb",
      "provenance": []
    },
    "kernelspec": {
      "name": "python3",
      "display_name": "Python 3"
    }
  },
  "cells": [
    {
      "cell_type": "markdown",
      "metadata": {
        "id": "jd1vN9feE6lO",
        "colab_type": "text"
      },
      "source": [
        "# Corpora and Vector Spaces\n"
      ]
    },
    {
      "cell_type": "markdown",
      "metadata": {
        "id": "0V0inwcMFAK_",
        "colab_type": "text"
      },
      "source": [
        "From Strings to Vectors\n",
        "\n",
        "This time, let’s start from documents represented as strings:"
      ]
    },
    {
      "cell_type": "markdown",
      "metadata": {
        "id": "2S6Hp7ElM4Ft",
        "colab_type": "text"
      },
      "source": [
        "# Cleaning the text"
      ]
    },
    {
      "cell_type": "code",
      "metadata": {
        "id": "xKVd7Z0gE5ju",
        "colab_type": "code",
        "colab": {}
      },
      "source": [
        "documents = [\n",
        "    \"Human machine interface for lab abc computer applications\",\n",
        "    \"A survey of user opinion of computer system response time\",\n",
        "    \"The EPS user interface management system\",\n",
        "    \"System and human system engineering testing of EPS\",\n",
        "    \"Relation of user perceived response time to error measurement\",\n",
        "    \"The generation of random binary unordered trees\",\n",
        "    \"The intersection graph of paths in trees\",\n",
        "    \"Graph minors IV Widths of trees and well quasi ordering\",\n",
        "    \"Graph minors A survey\",\n",
        "]"
      ],
      "execution_count": 0,
      "outputs": []
    },
    {
      "cell_type": "markdown",
      "metadata": {
        "id": "7EFrZVu2FD7u",
        "colab_type": "text"
      },
      "source": [
        "This is a tiny corpus of nine documents, each consisting of only a single sentence.\n",
        "\n",
        "First, let’s tokenize the documents, remove common words (using a toy stoplist) as well as words that only appear once in the corpus:"
      ]
    },
    {
      "cell_type": "code",
      "metadata": {
        "id": "Ef4F88GFFCJc",
        "colab_type": "code",
        "colab": {}
      },
      "source": [
        "from pprint import pprint \n",
        "from collections import defaultdict"
      ],
      "execution_count": 0,
      "outputs": []
    },
    {
      "cell_type": "code",
      "metadata": {
        "id": "bEjx2JZdFIOQ",
        "colab_type": "code",
        "colab": {
          "base_uri": "https://localhost:8080/",
          "height": 36
        },
        "outputId": "cbc7fc56-3a60-4494-b228-9b7767a893f0"
      },
      "source": [
        "stoplist = set('for a of the and in'.split())\n",
        "print(stoplist)"
      ],
      "execution_count": 3,
      "outputs": [
        {
          "output_type": "stream",
          "text": [
            "{'in', 'a', 'for', 'of', 'and', 'the'}\n"
          ],
          "name": "stdout"
        }
      ]
    },
    {
      "cell_type": "code",
      "metadata": {
        "id": "GWOFgTVcFN_y",
        "colab_type": "code",
        "colab": {}
      },
      "source": [
        "texts = []\n",
        "for document in documents:\n",
        "    textl = []\n",
        "    for word in document.lower().split():\n",
        "        if word not in stoplist:\n",
        "            textl.append(word)\n",
        "    \n",
        "    texts.append(textl)"
      ],
      "execution_count": 0,
      "outputs": []
    },
    {
      "cell_type": "code",
      "metadata": {
        "id": "ErVBmnGSFc3Q",
        "colab_type": "code",
        "colab": {
          "base_uri": "https://localhost:8080/",
          "height": 190
        },
        "outputId": "102d227d-42a5-46ff-dd64-afa4a0e23898"
      },
      "source": [
        "pprint(texts)"
      ],
      "execution_count": 27,
      "outputs": [
        {
          "output_type": "stream",
          "text": [
            "[['human', 'machine', 'interface', 'lab', 'abc', 'computer', 'applications'],\n",
            " ['survey', 'user', 'opinion', 'computer', 'system', 'response', 'time'],\n",
            " ['eps', 'user', 'interface', 'management', 'system'],\n",
            " ['system', 'human', 'system', 'engineering', 'testing', 'eps'],\n",
            " ['relation', 'user', 'perceived', 'response', 'time', 'error', 'measurement'],\n",
            " ['generation', 'random', 'binary', 'unordered', 'trees'],\n",
            " ['intersection', 'graph', 'paths', 'trees'],\n",
            " ['graph', 'minors', 'iv', 'widths', 'trees', 'well', 'quasi', 'ordering'],\n",
            " ['graph', 'minors', 'survey']]\n"
          ],
          "name": "stdout"
        }
      ]
    },
    {
      "cell_type": "code",
      "metadata": {
        "id": "-nhvegmcFgHF",
        "colab_type": "code",
        "colab": {}
      },
      "source": [
        "# remove words that appear only once\n",
        "frequency = defaultdict(int)"
      ],
      "execution_count": 0,
      "outputs": []
    },
    {
      "cell_type": "code",
      "metadata": {
        "id": "cmQtw8z-Fknr",
        "colab_type": "code",
        "colab": {}
      },
      "source": [
        "for text in texts:\n",
        "    for token in text:\n",
        "        frequency[token] += 1"
      ],
      "execution_count": 0,
      "outputs": []
    },
    {
      "cell_type": "code",
      "metadata": {
        "id": "BpEZGYlJGrTt",
        "colab_type": "code",
        "colab": {}
      },
      "source": [
        "texts_final = []"
      ],
      "execution_count": 0,
      "outputs": []
    },
    {
      "cell_type": "code",
      "metadata": {
        "id": "D6cO3EOZF5Fo",
        "colab_type": "code",
        "colab": {}
      },
      "source": [
        "for text in texts:\n",
        "    texts_doc = []\n",
        "    for token in text:\n",
        "        if frequency[token] > 1:\n",
        "            texts_doc.append(token)\n",
        "    texts_final.append(texts_doc)"
      ],
      "execution_count": 0,
      "outputs": []
    },
    {
      "cell_type": "code",
      "metadata": {
        "id": "Vc93WwJQGwax",
        "colab_type": "code",
        "colab": {
          "base_uri": "https://localhost:8080/",
          "height": 190
        },
        "outputId": "ba1c67ad-afa2-4cc1-e79d-31815ce8676c"
      },
      "source": [
        "pprint(texts_final)"
      ],
      "execution_count": 26,
      "outputs": [
        {
          "output_type": "stream",
          "text": [
            "[['human', 'interface', 'computer'],\n",
            " ['survey', 'user', 'computer', 'system', 'response', 'time'],\n",
            " ['eps', 'user', 'interface', 'system'],\n",
            " ['system', 'human', 'system', 'eps'],\n",
            " ['user', 'response', 'time'],\n",
            " ['trees'],\n",
            " ['graph', 'trees'],\n",
            " ['graph', 'minors', 'trees'],\n",
            " ['graph', 'minors', 'survey']]\n"
          ],
          "name": "stdout"
        }
      ]
    },
    {
      "cell_type": "markdown",
      "metadata": {
        "id": "AhlQvCWUHNwS",
        "colab_type": "text"
      },
      "source": [
        "Your way of processing the documents will likely vary; here, I only split on whitespace to tokenize, followed by lowercasing each word. In fact, I use this particular (simplistic and inefficient) setup to mimic the experiment done in Deerwester et al.’s original LSA article 1.\n",
        "\n",
        "The ways to process documents are so varied and application- and language-dependent that I decided to not constrain them by any interface. Instead, a document is represented by the features extracted from it, not by its “surface” string form: how you get to the features is up to you. Below I describe one common, general-purpose approach (called bag-of-words), but keep in mind that different application domains call for different features, and, as always, it’s garbage in, garbage out…\n",
        "\n",
        "To convert documents to vectors, we’ll use a document representation called bag-of-words. In this representation, each document is represented by one vector where each vector element represents a question-answer pair, in the style of:"
      ]
    },
    {
      "cell_type": "markdown",
      "metadata": {
        "id": "GVsoo-h3MbXf",
        "colab_type": "text"
      },
      "source": [
        "It is advantageous to represent the questions only by their (integer) ids. The mapping between the questions and ids is called a dictionary:"
      ]
    },
    {
      "cell_type": "markdown",
      "metadata": {
        "id": "9H-cNA65M6xQ",
        "colab_type": "text"
      },
      "source": [
        "# Create a dictionary"
      ]
    },
    {
      "cell_type": "code",
      "metadata": {
        "id": "3T7DGQftGxLb",
        "colab_type": "code",
        "colab": {}
      },
      "source": [
        "from gensim import corpora"
      ],
      "execution_count": 0,
      "outputs": []
    },
    {
      "cell_type": "code",
      "metadata": {
        "id": "iS1RFCMxMcm1",
        "colab_type": "code",
        "colab": {}
      },
      "source": [
        "dictionary = corpora.Dictionary(texts_final)"
      ],
      "execution_count": 0,
      "outputs": []
    },
    {
      "cell_type": "code",
      "metadata": {
        "id": "3ryyMYfWMg32",
        "colab_type": "code",
        "colab": {
          "base_uri": "https://localhost:8080/",
          "height": 75
        },
        "outputId": "880d4f9d-9593-4db9-845d-79c86322dbeb"
      },
      "source": [
        "dictionary.save('/tmp/deerwester.dict')"
      ],
      "execution_count": 32,
      "outputs": [
        {
          "output_type": "stream",
          "text": [
            "/usr/local/lib/python3.6/dist-packages/smart_open/smart_open_lib.py:253: UserWarning: This function is deprecated, use smart_open.open instead. See the migration notes for details: https://github.com/RaRe-Technologies/smart_open/blob/master/README.rst#migrating-to-the-new-open-function\n",
            "  'See the migration notes for details: %s' % _MIGRATION_NOTES_URL\n"
          ],
          "name": "stderr"
        }
      ]
    },
    {
      "cell_type": "code",
      "metadata": {
        "id": "gSV-RyKnMr8n",
        "colab_type": "code",
        "colab": {
          "base_uri": "https://localhost:8080/",
          "height": 36
        },
        "outputId": "074e90d6-518a-4e79-c281-e2271869ee28"
      },
      "source": [
        "print(dictionary)"
      ],
      "execution_count": 33,
      "outputs": [
        {
          "output_type": "stream",
          "text": [
            "Dictionary(12 unique tokens: ['computer', 'human', 'interface', 'response', 'survey']...)\n"
          ],
          "name": "stdout"
        }
      ]
    },
    {
      "cell_type": "markdown",
      "metadata": {
        "id": "mxreeHzdMxLa",
        "colab_type": "text"
      },
      "source": [
        "Here we assigned a unique integer id to all words appearing in the corpus with the gensim.corpora.dictionary.Dictionary class. This sweeps across the texts, collecting word counts and relevant statistics. In the end, we see there are twelve distinct words in the processed corpus, which means each document will be represented by twelve numbers (ie., by a 12-D vector). To see the mapping between words and their ids:"
      ]
    },
    {
      "cell_type": "code",
      "metadata": {
        "id": "eFuXRBPVMthv",
        "colab_type": "code",
        "colab": {
          "base_uri": "https://localhost:8080/",
          "height": 56
        },
        "outputId": "52ab3b29-961c-4ca5-dd5f-6abb3e80aebc"
      },
      "source": [
        "print(dictionary.token2id)"
      ],
      "execution_count": 34,
      "outputs": [
        {
          "output_type": "stream",
          "text": [
            "{'computer': 0, 'human': 1, 'interface': 2, 'response': 3, 'survey': 4, 'system': 5, 'time': 6, 'user': 7, 'eps': 8, 'trees': 9, 'graph': 10, 'minors': 11}\n"
          ],
          "name": "stdout"
        }
      ]
    },
    {
      "cell_type": "code",
      "metadata": {
        "id": "ZJ1VAQ2TMyjk",
        "colab_type": "code",
        "colab": {}
      },
      "source": [
        "new_doc = \"Human computer interaction\"\n",
        "new_vec = dictionary.doc2bow(new_doc.lower().split())"
      ],
      "execution_count": 0,
      "outputs": []
    },
    {
      "cell_type": "markdown",
      "metadata": {
        "id": "z4KgfpshNAdj",
        "colab_type": "text"
      },
      "source": [
        "The function doc2bow() simply counts the number of occurrences of each distinct word, converts the word to its integer word id and returns the result as a sparse vector. The sparse vector [(0, 1), (1, 1)] therefore reads: in the document “Human computer interaction”, the words computer (id 0) and human (id 1) appear once; the other ten dictionary words appear (implicitly) zero times."
      ]
    },
    {
      "cell_type": "code",
      "metadata": {
        "id": "gtHe3ou3M-WB",
        "colab_type": "code",
        "colab": {}
      },
      "source": [
        "corpus = []\n",
        "for text in texts_final:\n",
        "    corpus.append(dictionary.doc2bow(text))"
      ],
      "execution_count": 0,
      "outputs": []
    },
    {
      "cell_type": "code",
      "metadata": {
        "id": "FJkltznpNP3t",
        "colab_type": "code",
        "colab": {
          "base_uri": "https://localhost:8080/",
          "height": 56
        },
        "outputId": "42fc34c3-7f6f-4ed1-9d59-25c14d766f4f"
      },
      "source": [
        "print(corpus)"
      ],
      "execution_count": 37,
      "outputs": [
        {
          "output_type": "stream",
          "text": [
            "[[(0, 1), (1, 1), (2, 1)], [(0, 1), (3, 1), (4, 1), (5, 1), (6, 1), (7, 1)], [(2, 1), (5, 1), (7, 1), (8, 1)], [(1, 1), (5, 2), (8, 1)], [(3, 1), (6, 1), (7, 1)], [(9, 1)], [(9, 1), (10, 1)], [(9, 1), (10, 1), (11, 1)], [(4, 1), (10, 1), (11, 1)]]\n"
          ],
          "name": "stdout"
        }
      ]
    },
    {
      "cell_type": "code",
      "metadata": {
        "id": "YsT3CVsUNQ1J",
        "colab_type": "code",
        "colab": {}
      },
      "source": [
        "corpora.MmCorpus.serialize('/tmp/deerwester.mm', corpus)  # store to disk, for later use\n",
        "print(corpus)"
      ],
      "execution_count": 0,
      "outputs": []
    },
    {
      "cell_type": "markdown",
      "metadata": {
        "id": "DveJr1tpNZxf",
        "colab_type": "text"
      },
      "source": [
        "By now it should be clear that the vector feature with id=10 stands for the question “How many times does the word graph appear in the document?” and that the answer is “zero” for the first six documents and “one” for the remaining three."
      ]
    },
    {
      "cell_type": "markdown",
      "metadata": {
        "id": "ErLDw3e3N9ue",
        "colab_type": "text"
      },
      "source": [
        "# Streaming Corpus"
      ]
    },
    {
      "cell_type": "markdown",
      "metadata": {
        "id": "WJvV18SnOCH4",
        "colab_type": "text"
      },
      "source": [
        "Note that corpus above resides fully in memory, as a plain Python list. In this simple example, it doesn’t matter much, but just to make things clear, let’s assume there are millions of documents in the corpus. Storing all of them in RAM won’t do. Instead, let’s assume the documents are stored in a file on disk, one document per line. Gensim only requires that a corpus must be able to return one document vector at a time:"
      ]
    },
    {
      "cell_type": "code",
      "metadata": {
        "id": "wxsKcngANXDc",
        "colab_type": "code",
        "colab": {}
      },
      "source": [
        "from smart_open import open"
      ],
      "execution_count": 0,
      "outputs": []
    },
    {
      "cell_type": "code",
      "metadata": {
        "id": "HQ80HwM1ODrq",
        "colab_type": "code",
        "colab": {}
      },
      "source": [
        "class MyCorpus(object):\n",
        "    def __iter__(self):\n",
        "        for line in open('https://radimrehurek.com/gensim/mycorpus.txt'):\n",
        "            # assume there's one document per line, tokens separated by whitespace\n",
        "            yield dictionary.doc2bow(line.lower().split())"
      ],
      "execution_count": 0,
      "outputs": []
    },
    {
      "cell_type": "markdown",
      "metadata": {
        "id": "MNH33Ru2OH2-",
        "colab_type": "text"
      },
      "source": [
        "The full power of Gensim comes from the fact that a corpus doesn’t have to be a list, or a NumPy array, or a Pandas dataframe, or whatever. Gensim accepts any object that, when iterated over, successively yields documents."
      ]
    },
    {
      "cell_type": "code",
      "metadata": {
        "id": "V7XAhrcNOFm6",
        "colab_type": "code",
        "colab": {}
      },
      "source": [
        "# This flexibility allows you to create your own corpus classes that stream the\n",
        "# documents directly from disk, network, database, dataframes... The models\n",
        "# in Gensim are implemented such that they don't require all vectors to reside\n",
        "# in RAM at once. You can even create the documents on the fly!"
      ],
      "execution_count": 0,
      "outputs": []
    },
    {
      "cell_type": "markdown",
      "metadata": {
        "id": "wE0G-5deONAB",
        "colab_type": "text"
      },
      "source": [
        "Download the sample mycorpus.txt file here. The assumption that each document occupies one line in a single file is not important; you can mold the __iter__ function to fit your input format, whatever it is. Walking directories, parsing XML, accessing the network… Just parse your input to retrieve a clean list of tokens in each document, then convert the tokens via a dictionary to their ids and yield the resulting sparse vector inside __iter__."
      ]
    },
    {
      "cell_type": "code",
      "metadata": {
        "id": "ypFwEFvCOKiw",
        "colab_type": "code",
        "colab": {
          "base_uri": "https://localhost:8080/",
          "height": 36
        },
        "outputId": "ea7faf11-5453-4953-bbab-34e081cad9b8"
      },
      "source": [
        "corpus_memory_friendly = MyCorpus()  # doesn't load the corpus into memory!\n",
        "print(corpus_memory_friendly)"
      ],
      "execution_count": 42,
      "outputs": [
        {
          "output_type": "stream",
          "text": [
            "<__main__.MyCorpus object at 0x7fa8b2d37d68>\n"
          ],
          "name": "stdout"
        }
      ]
    },
    {
      "cell_type": "markdown",
      "metadata": {
        "id": "2Mg_1Cf3OTO-",
        "colab_type": "text"
      },
      "source": [
        "Corpus is now an object. We didn’t define any way to print it, so print just outputs address of the object in memory. Not very useful. To see the constituent vectors, let’s iterate over the corpus and print each document vector (one at a time):"
      ]
    },
    {
      "cell_type": "code",
      "metadata": {
        "id": "qq61HKTCOQtJ",
        "colab_type": "code",
        "colab": {}
      },
      "source": [
        "for vector in corpus_memory_friendly:  # load one vector into memory at a time\n",
        "    print(vector)"
      ],
      "execution_count": 0,
      "outputs": []
    },
    {
      "cell_type": "markdown",
      "metadata": {
        "id": "MetuUxB6OiKV",
        "colab_type": "text"
      },
      "source": [
        "Although the output is the same as for the plain Python list, the corpus is now much more memory friendly, because at most one vector resides in RAM at a time. Your corpus can now be as large as you want.\n",
        "\n",
        "Similarly, to construct the dictionary without loading all texts into memory:"
      ]
    },
    {
      "cell_type": "code",
      "metadata": {
        "id": "-HHk3ISUOUT9",
        "colab_type": "code",
        "colab": {}
      },
      "source": [
        "from six import iteritems\n",
        "# collect statistics about all tokens\n",
        "dictionary = corpora.Dictionary(line.lower().split() for line in open('https://radimrehurek.com/gensim/mycorpus.txt'))\n",
        "# remove stop words and words that appear only once\n",
        "stop_ids = [\n",
        "    dictionary.token2id[stopword]\n",
        "    for stopword in stoplist\n",
        "    if stopword in dictionary.token2id\n",
        "]\n",
        "once_ids = [tokenid for tokenid, docfreq in iteritems(dictionary.dfs) if docfreq == 1]\n",
        "dictionary.filter_tokens(stop_ids + once_ids)  # remove stop words and words that appear only once\n",
        "dictionary.compactify()  # remove gaps in id sequence after words that were removed\n",
        "print(dictionary)"
      ],
      "execution_count": 0,
      "outputs": []
    },
    {
      "cell_type": "markdown",
      "metadata": {
        "id": "AQIs7_SXO2gX",
        "colab_type": "text"
      },
      "source": [
        "# Corpus Formats"
      ]
    },
    {
      "cell_type": "markdown",
      "metadata": {
        "id": "xKVh7iK2O_7B",
        "colab_type": "text"
      },
      "source": [
        "There exist several file formats for serializing a Vector Space corpus (~sequence of vectors) to disk. Gensim implements them via the streaming corpus interface mentioned earlier: documents are read from (resp. stored to) disk in a lazy fashion, one document at a time, without the whole corpus being read into main memory at once"
      ]
    },
    {
      "cell_type": "markdown",
      "metadata": {
        "id": "EpOFwbibPBXE",
        "colab_type": "text"
      },
      "source": [
        "One of the more notable file formats is the Market Matrix format. To save a corpus in the Matrix Market format:\n",
        "\n",
        "create a toy corpus of 2 documents, as a plain Python list"
      ]
    },
    {
      "cell_type": "code",
      "metadata": {
        "id": "qCpzdMe2OzCz",
        "colab_type": "code",
        "colab": {
          "base_uri": "https://localhost:8080/",
          "height": 75
        },
        "outputId": "55774b15-8f64-42c5-f52c-01a4f13491d4"
      },
      "source": [
        "corpus = [[(1, 0.5)], []]  # make one document empty, for the heck of it\n",
        "\n",
        "corpora.MmCorpus.serialize('/tmp/corpus.mm', corpus)"
      ],
      "execution_count": 45,
      "outputs": [
        {
          "output_type": "stream",
          "text": [
            "/usr/local/lib/python3.6/dist-packages/smart_open/smart_open_lib.py:253: UserWarning: This function is deprecated, use smart_open.open instead. See the migration notes for details: https://github.com/RaRe-Technologies/smart_open/blob/master/README.rst#migrating-to-the-new-open-function\n",
            "  'See the migration notes for details: %s' % _MIGRATION_NOTES_URL\n"
          ],
          "name": "stderr"
        }
      ]
    },
    {
      "cell_type": "markdown",
      "metadata": {
        "id": "h7o7k4tsPr2N",
        "colab_type": "text"
      },
      "source": [
        "Other formats include Joachim’s SVMlight format, Blei’s LDA-C format and GibbsLDA++ format."
      ]
    },
    {
      "cell_type": "code",
      "metadata": {
        "id": "p0pwfucRPmov",
        "colab_type": "code",
        "colab": {
          "base_uri": "https://localhost:8080/",
          "height": 75
        },
        "outputId": "9948eb8a-9f80-451a-f878-1e9eab35fffc"
      },
      "source": [
        "corpora.SvmLightCorpus.serialize('/tmp/corpus.svmlight', corpus)\n",
        "corpora.BleiCorpus.serialize('/tmp/corpus.lda-c', corpus)\n",
        "corpora.LowCorpus.serialize('/tmp/corpus.low', corpus)"
      ],
      "execution_count": 49,
      "outputs": [
        {
          "output_type": "stream",
          "text": [
            "/usr/local/lib/python3.6/dist-packages/smart_open/smart_open_lib.py:253: UserWarning: This function is deprecated, use smart_open.open instead. See the migration notes for details: https://github.com/RaRe-Technologies/smart_open/blob/master/README.rst#migrating-to-the-new-open-function\n",
            "  'See the migration notes for details: %s' % _MIGRATION_NOTES_URL\n"
          ],
          "name": "stderr"
        }
      ]
    },
    {
      "cell_type": "markdown",
      "metadata": {
        "id": "mRaNvKjhPu5m",
        "colab_type": "text"
      },
      "source": [
        "Conversely, to load a corpus iterator from a Matrix Market file:"
      ]
    },
    {
      "cell_type": "code",
      "metadata": {
        "id": "juex6h_4PsW9",
        "colab_type": "code",
        "colab": {
          "base_uri": "https://localhost:8080/",
          "height": 75
        },
        "outputId": "779cdec3-a5c8-4514-c565-c844f5b7699c"
      },
      "source": [
        "corpus = corpora.MmCorpus('/tmp/corpus.mm')"
      ],
      "execution_count": 50,
      "outputs": [
        {
          "output_type": "stream",
          "text": [
            "/usr/local/lib/python3.6/dist-packages/smart_open/smart_open_lib.py:253: UserWarning: This function is deprecated, use smart_open.open instead. See the migration notes for details: https://github.com/RaRe-Technologies/smart_open/blob/master/README.rst#migrating-to-the-new-open-function\n",
            "  'See the migration notes for details: %s' % _MIGRATION_NOTES_URL\n"
          ],
          "name": "stderr"
        }
      ]
    },
    {
      "cell_type": "code",
      "metadata": {
        "id": "jLRKOtJqPvHa",
        "colab_type": "code",
        "colab": {
          "base_uri": "https://localhost:8080/",
          "height": 95
        },
        "outputId": "3aa5f78b-0ff9-4e0c-ce44-509c130d69f9"
      },
      "source": [
        "# one way of printing a corpus: load it entirely into memory\n",
        "print(list(corpus))  # calling list() will convert any sequence to a plain Python list"
      ],
      "execution_count": 51,
      "outputs": [
        {
          "output_type": "stream",
          "text": [
            "[[(1, 0.5)], []]\n"
          ],
          "name": "stdout"
        },
        {
          "output_type": "stream",
          "text": [
            "/usr/local/lib/python3.6/dist-packages/smart_open/smart_open_lib.py:253: UserWarning: This function is deprecated, use smart_open.open instead. See the migration notes for details: https://github.com/RaRe-Technologies/smart_open/blob/master/README.rst#migrating-to-the-new-open-function\n",
            "  'See the migration notes for details: %s' % _MIGRATION_NOTES_URL\n"
          ],
          "name": "stderr"
        }
      ]
    },
    {
      "cell_type": "code",
      "metadata": {
        "id": "OBE1AdZ5PyCc",
        "colab_type": "code",
        "colab": {
          "base_uri": "https://localhost:8080/",
          "height": 114
        },
        "outputId": "632e595d-f36f-49a1-cd10-27d055403989"
      },
      "source": [
        "# another way of doing it: print one document at a time, making use of the streaming interface\n",
        "for doc in corpus:\n",
        "    print(doc)"
      ],
      "execution_count": 52,
      "outputs": [
        {
          "output_type": "stream",
          "text": [
            "[(1, 0.5)]\n",
            "[]\n"
          ],
          "name": "stdout"
        },
        {
          "output_type": "stream",
          "text": [
            "/usr/local/lib/python3.6/dist-packages/smart_open/smart_open_lib.py:253: UserWarning: This function is deprecated, use smart_open.open instead. See the migration notes for details: https://github.com/RaRe-Technologies/smart_open/blob/master/README.rst#migrating-to-the-new-open-function\n",
            "  'See the migration notes for details: %s' % _MIGRATION_NOTES_URL\n"
          ],
          "name": "stderr"
        }
      ]
    },
    {
      "cell_type": "markdown",
      "metadata": {
        "id": "j1uU6V5LP1If",
        "colab_type": "text"
      },
      "source": [
        "The second way is obviously more memory-friendly, but for testing and development purposes, nothing beats the simplicity of calling list(corpus)."
      ]
    },
    {
      "cell_type": "markdown",
      "metadata": {
        "id": "7VYQYlwWXUd5",
        "colab_type": "text"
      },
      "source": [
        "# Compatibility with NumPy and SciPy"
      ]
    },
    {
      "cell_type": "code",
      "metadata": {
        "id": "J2wBTN1OPzMb",
        "colab_type": "code",
        "colab": {}
      },
      "source": [
        "import gensim\n",
        "import numpy as np"
      ],
      "execution_count": 0,
      "outputs": []
    },
    {
      "cell_type": "code",
      "metadata": {
        "id": "XHy5BSgXXZfz",
        "colab_type": "code",
        "colab": {}
      },
      "source": [
        "numpy_matrix = np.random.randint(10, size=[5, 2])  # random matrix as an example"
      ],
      "execution_count": 0,
      "outputs": []
    },
    {
      "cell_type": "code",
      "metadata": {
        "id": "wG7XRLxqXiyi",
        "colab_type": "code",
        "colab": {}
      },
      "source": [
        "corpus = gensim.matutils.Dense2Corpus(numpy_matrix)"
      ],
      "execution_count": 0,
      "outputs": []
    },
    {
      "cell_type": "code",
      "metadata": {
        "id": "fxPZBalBXkq5",
        "colab_type": "code",
        "colab": {}
      },
      "source": [
        "import scipy.sparse\n",
        "scipy_sparse_matrix = scipy.sparse.random(5, 2)  # random sparse matrix as example\n",
        "corpus = gensim.matutils.Sparse2Corpus(scipy_sparse_matrix)\n",
        "scipy_csc_matrix = gensim.matutils.corpus2csc(corpus)"
      ],
      "execution_count": 0,
      "outputs": []
    }
  ]
}