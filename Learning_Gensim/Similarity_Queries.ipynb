{
  "nbformat": 4,
  "nbformat_minor": 0,
  "metadata": {
    "colab": {
      "name": "Similarity_Queries.ipynb",
      "provenance": []
    },
    "kernelspec": {
      "name": "python3",
      "display_name": "Python 3"
    }
  },
  "cells": [
    {
      "cell_type": "markdown",
      "metadata": {
        "id": "CTd1tWaw4N0X",
        "colab_type": "text"
      },
      "source": [
        "# Get the Data"
      ]
    },
    {
      "cell_type": "code",
      "metadata": {
        "id": "xKVd7Z0gE5ju",
        "colab_type": "code",
        "colab": {}
      },
      "source": [
        "documents = [\n",
        "    \"Human machine interface for lab abc computer applications\",\n",
        "    \"A survey of user opinion of computer system response time\",\n",
        "    \"The EPS user interface management system\",\n",
        "    \"System and human system engineering testing of EPS\",\n",
        "    \"Relation of user perceived response time to error measurement\",\n",
        "    \"The generation of random binary unordered trees\",\n",
        "    \"The intersection graph of paths in trees\",\n",
        "    \"Graph minors IV Widths of trees and well quasi ordering\",\n",
        "    \"Graph minors A survey\",\n",
        "]"
      ],
      "execution_count": 0,
      "outputs": []
    },
    {
      "cell_type": "markdown",
      "metadata": {
        "id": "7EFrZVu2FD7u",
        "colab_type": "text"
      },
      "source": [
        "This is a tiny corpus of nine documents, each consisting of only a single sentence.\n",
        "\n",
        "First, let’s tokenize the documents, remove common words (using a toy stoplist) as well as words that only appear once in the corpus:"
      ]
    },
    {
      "cell_type": "code",
      "metadata": {
        "id": "Ef4F88GFFCJc",
        "colab_type": "code",
        "colab": {}
      },
      "source": [
        "from pprint import pprint \n",
        "from collections import defaultdict\n",
        "from gensim import corpora"
      ],
      "execution_count": 0,
      "outputs": []
    },
    {
      "cell_type": "code",
      "metadata": {
        "id": "bEjx2JZdFIOQ",
        "colab_type": "code",
        "outputId": "f35165e9-7c95-4130-e201-b9d12cba3f7a",
        "colab": {
          "base_uri": "https://localhost:8080/",
          "height": 36
        }
      },
      "source": [
        "stoplist = set('for a of the and in'.split())\n",
        "print(stoplist)"
      ],
      "execution_count": 21,
      "outputs": [
        {
          "output_type": "stream",
          "text": [
            "{'for', 'in', 'a', 'of', 'and', 'the'}\n"
          ],
          "name": "stdout"
        }
      ]
    },
    {
      "cell_type": "code",
      "metadata": {
        "id": "GWOFgTVcFN_y",
        "colab_type": "code",
        "colab": {}
      },
      "source": [
        "texts = []\n",
        "for document in documents:\n",
        "    textl = []\n",
        "    for word in document.lower().split():\n",
        "        if word not in stoplist:\n",
        "            textl.append(word)\n",
        "    \n",
        "    texts.append(textl)"
      ],
      "execution_count": 0,
      "outputs": []
    },
    {
      "cell_type": "code",
      "metadata": {
        "id": "ErVBmnGSFc3Q",
        "colab_type": "code",
        "outputId": "b4bb1a6c-fbed-4aa0-9965-c6113ed3196d",
        "colab": {
          "base_uri": "https://localhost:8080/",
          "height": 324
        }
      },
      "source": [
        "pprint(texts)"
      ],
      "execution_count": 23,
      "outputs": [
        {
          "output_type": "stream",
          "text": [
            "[['human', 'machine', 'interface', 'lab', 'abc', 'computer', 'applications'],\n",
            " ['survey', 'user', 'opinion', 'computer', 'system', 'response', 'time'],\n",
            " ['eps', 'user', 'interface', 'management', 'system'],\n",
            " ['system', 'human', 'system', 'engineering', 'testing', 'eps'],\n",
            " ['relation',\n",
            "  'user',\n",
            "  'perceived',\n",
            "  'response',\n",
            "  'time',\n",
            "  'to',\n",
            "  'error',\n",
            "  'measurement'],\n",
            " ['generation', 'random', 'binary', 'unordered', 'trees'],\n",
            " ['intersection', 'graph', 'paths', 'trees'],\n",
            " ['graph', 'minors', 'iv', 'widths', 'trees', 'well', 'quasi', 'ordering'],\n",
            " ['graph', 'minors', 'survey']]\n"
          ],
          "name": "stdout"
        }
      ]
    },
    {
      "cell_type": "code",
      "metadata": {
        "id": "-nhvegmcFgHF",
        "colab_type": "code",
        "colab": {}
      },
      "source": [
        "# remove words that appear only once\n",
        "frequency = defaultdict(int)"
      ],
      "execution_count": 0,
      "outputs": []
    },
    {
      "cell_type": "code",
      "metadata": {
        "id": "cmQtw8z-Fknr",
        "colab_type": "code",
        "colab": {}
      },
      "source": [
        "for text in texts:\n",
        "    for token in text:\n",
        "        frequency[token] += 1"
      ],
      "execution_count": 0,
      "outputs": []
    },
    {
      "cell_type": "code",
      "metadata": {
        "id": "BpEZGYlJGrTt",
        "colab_type": "code",
        "colab": {}
      },
      "source": [
        "texts_final = []"
      ],
      "execution_count": 0,
      "outputs": []
    },
    {
      "cell_type": "code",
      "metadata": {
        "id": "D6cO3EOZF5Fo",
        "colab_type": "code",
        "colab": {}
      },
      "source": [
        "for text in texts:\n",
        "    texts_doc = []\n",
        "    for token in text:\n",
        "        if frequency[token] > 1:\n",
        "            texts_doc.append(token)\n",
        "    texts_final.append(texts_doc)"
      ],
      "execution_count": 0,
      "outputs": []
    },
    {
      "cell_type": "code",
      "metadata": {
        "id": "Vc93WwJQGwax",
        "colab_type": "code",
        "outputId": "77772283-e453-4ccc-e902-8f2dae07b416",
        "colab": {
          "base_uri": "https://localhost:8080/",
          "height": 190
        }
      },
      "source": [
        "pprint(texts_final)"
      ],
      "execution_count": 28,
      "outputs": [
        {
          "output_type": "stream",
          "text": [
            "[['human', 'interface', 'computer'],\n",
            " ['survey', 'user', 'computer', 'system', 'response', 'time'],\n",
            " ['eps', 'user', 'interface', 'system'],\n",
            " ['system', 'human', 'system', 'eps'],\n",
            " ['user', 'response', 'time'],\n",
            " ['trees'],\n",
            " ['graph', 'trees'],\n",
            " ['graph', 'minors', 'trees'],\n",
            " ['graph', 'minors', 'survey']]\n"
          ],
          "name": "stdout"
        }
      ]
    },
    {
      "cell_type": "code",
      "metadata": {
        "id": "iS1RFCMxMcm1",
        "colab_type": "code",
        "colab": {}
      },
      "source": [
        "dictionary = corpora.Dictionary(texts_final)"
      ],
      "execution_count": 0,
      "outputs": []
    },
    {
      "cell_type": "code",
      "metadata": {
        "id": "QI8QwEHd4bhc",
        "colab_type": "code",
        "colab": {}
      },
      "source": [
        "corpus = []\n",
        "for text in texts_final:\n",
        "    corpus.append(dictionary.doc2bow(text))"
      ],
      "execution_count": 0,
      "outputs": []
    },
    {
      "cell_type": "code",
      "metadata": {
        "id": "EHjmwD364rb9",
        "colab_type": "code",
        "colab": {
          "base_uri": "https://localhost:8080/",
          "height": 190
        },
        "outputId": "35e438ac-4be7-4d20-f721-0e26071a85ae"
      },
      "source": [
        "pprint(corpus)"
      ],
      "execution_count": 31,
      "outputs": [
        {
          "output_type": "stream",
          "text": [
            "[[(0, 1), (1, 1), (2, 1)],\n",
            " [(0, 1), (3, 1), (4, 1), (5, 1), (6, 1), (7, 1)],\n",
            " [(2, 1), (5, 1), (7, 1), (8, 1)],\n",
            " [(1, 1), (5, 2), (8, 1)],\n",
            " [(3, 1), (6, 1), (7, 1)],\n",
            " [(9, 1)],\n",
            " [(9, 1), (10, 1)],\n",
            " [(9, 1), (10, 1), (11, 1)],\n",
            " [(4, 1), (10, 1), (11, 1)]]\n"
          ],
          "name": "stdout"
        }
      ]
    },
    {
      "cell_type": "markdown",
      "metadata": {
        "id": "2PTrRBwf4x5a",
        "colab_type": "text"
      },
      "source": [
        "# Similarity interface"
      ]
    },
    {
      "cell_type": "markdown",
      "metadata": {
        "id": "paIVrsB75Fjd",
        "colab_type": "text"
      },
      "source": [
        "In the previous tutorials on Corpora and Vector Spaces and Topics and Transformations, we covered what it means to create a corpus in the Vector Space Model and how to transform it between different vector spaces. \n",
        "\n",
        "A common reason for such a charade is that we want to determine similarity between pairs of documents, or the similarity between a specific document and a set of other documents (such as a user query vs. indexed documents)."
      ]
    },
    {
      "cell_type": "markdown",
      "metadata": {
        "id": "tOl-hJ695KVk",
        "colab_type": "text"
      },
      "source": [
        "To show how this can be done in gensim, let us consider the same corpus as in the previous examples (which really originally comes from Deerwester et al.’s “Indexing by Latent Semantic Analysis” seminal 1990 article). To follow Deerwester’s example, we first use this tiny corpus to define a 2-dimensional LSI space:"
      ]
    },
    {
      "cell_type": "code",
      "metadata": {
        "id": "QNmD8MUZ4spC",
        "colab_type": "code",
        "colab": {}
      },
      "source": [
        "from gensim import models"
      ],
      "execution_count": 0,
      "outputs": []
    },
    {
      "cell_type": "code",
      "metadata": {
        "id": "_aLWixEf5MMr",
        "colab_type": "code",
        "colab": {}
      },
      "source": [
        "lsi = models.LsiModel(corpus, id2word=dictionary, num_topics=2)"
      ],
      "execution_count": 0,
      "outputs": []
    },
    {
      "cell_type": "markdown",
      "metadata": {
        "id": "JS3XSUsG5P-3",
        "colab_type": "text"
      },
      "source": [
        "For the purposes of this tutorial, there are only two things you need to know about LSI. First, it’s just another transformation: it transforms vectors from one space to another. \n",
        "\n",
        "Second, the benefit of LSI is that enables identifying patterns and relationships between terms (in our case, words in a document) and topics. Our LSI space is two-dimensional (num_topics = 2) so there are two topics, but this is arbitrary. If you’re interested, you can read more about LSI here: Latent Semantic Indexing:"
      ]
    },
    {
      "cell_type": "markdown",
      "metadata": {
        "id": "sRp1LJEl5yP4",
        "colab_type": "text"
      },
      "source": [
        "For the purposes of this tutorial, there are only two things you need to know about LSI. First, it’s just another transformation: it transforms vectors from one space to another. Second, the benefit of LSI is that enables identifying patterns and relationships between terms (in our case, words in a document) and topics. \n",
        "\n",
        "Our LSI space is two-dimensional (num_topics = 2) so there are two topics, but this is arbitrary. If you’re interested, you can read more about LSI here: Latent Semantic Indexing:"
      ]
    },
    {
      "cell_type": "code",
      "metadata": {
        "id": "1EM5QNvp5My7",
        "colab_type": "code",
        "colab": {
          "base_uri": "https://localhost:8080/",
          "height": 36
        },
        "outputId": "044dd6d0-6338-480e-d64b-11cc8142a44c"
      },
      "source": [
        "doc = \"Human computer interaction\"\n",
        "vec_bow = dictionary.doc2bow(doc.lower().split())\n",
        "vec_lsi = lsi[vec_bow]  # convert the query to LSI space\n",
        "print(vec_lsi)"
      ],
      "execution_count": 34,
      "outputs": [
        {
          "output_type": "stream",
          "text": [
            "[(0, 0.4618210045327156), (1, 0.07002766527900045)]\n"
          ],
          "name": "stdout"
        }
      ]
    },
    {
      "cell_type": "markdown",
      "metadata": {
        "id": "UCh8y8pW55ZE",
        "colab_type": "text"
      },
      "source": [
        "In addition, we will be considering cosine similarity to determine the similarity of two vectors. \n",
        "\n",
        "Cosine similarity is a standard measure in Vector Space Modeling, but wherever the vectors represent probability distributions, different similarity measures may be more appropriate."
      ]
    },
    {
      "cell_type": "markdown",
      "metadata": {
        "id": "Mao7HFBg58oE",
        "colab_type": "text"
      },
      "source": [
        "# Initializing query structures"
      ]
    },
    {
      "cell_type": "markdown",
      "metadata": {
        "id": "B-Nkktn76Bg4",
        "colab_type": "text"
      },
      "source": [
        "To prepare for similarity queries, we need to enter all documents which we want to compare against subsequent queries. \n",
        "\n",
        "In our case, they are the same nine documents used for training LSI, converted to 2-D LSA space. But that’s only incidental, we might also be indexing a different corpus altogether."
      ]
    },
    {
      "cell_type": "code",
      "metadata": {
        "id": "1mXRU70P52bQ",
        "colab_type": "code",
        "colab": {}
      },
      "source": [
        "from gensim import similarities"
      ],
      "execution_count": 0,
      "outputs": []
    },
    {
      "cell_type": "code",
      "metadata": {
        "id": "ARJAwSEZ6kjo",
        "colab_type": "code",
        "colab": {
          "base_uri": "https://localhost:8080/",
          "height": 75
        },
        "outputId": "d9a614e7-855c-44ea-da19-6468f398ca52"
      },
      "source": [
        "index = similarities.MatrixSimilarity(lsi[corpus])  # transform corpus to LSI space and index it"
      ],
      "execution_count": 36,
      "outputs": [
        {
          "output_type": "stream",
          "text": [
            "/usr/local/lib/python3.6/dist-packages/gensim/matutils.py:737: FutureWarning: Conversion of the second argument of issubdtype from `int` to `np.signedinteger` is deprecated. In future, it will be treated as `np.int64 == np.dtype(int).type`.\n",
            "  if np.issubdtype(vec.dtype, np.int):\n"
          ],
          "name": "stderr"
        }
      ]
    },
    {
      "cell_type": "markdown",
      "metadata": {
        "id": "XOJ6L-GT9Ffm",
        "colab_type": "text"
      },
      "source": [
        "The class similarities.MatrixSimilarity is only appropriate when the whole set of vectors fits into memory. For example, a corpus of one million documents would require 2GB of RAM in a 256-dimensional LSI space, when used with this class.\n",
        "\n",
        "Without 2GB of free RAM, you would need to use the similarities.Similarity class. This class operates in fixed memory, by splitting the index across multiple files on disk, called shards. It uses similarities.MatrixSimilarity and similarities.SparseMatrixSimilarity internally, so it is still fast, although slightly more complex."
      ]
    },
    {
      "cell_type": "markdown",
      "metadata": {
        "id": "NYB0ZVxH9IOa",
        "colab_type": "text"
      },
      "source": [
        "This is true for all similarity indexing classes (similarities.Similarity, similarities.MatrixSimilarity and similarities.SparseMatrixSimilarity). Also in the following, index can be an object of any of these. When in doubt, use similarities.Similarity, as it is the most scalable version, and it also supports adding more documents to the index later."
      ]
    },
    {
      "cell_type": "markdown",
      "metadata": {
        "id": "8x3_Twzl9jzS",
        "colab_type": "text"
      },
      "source": [
        "# Performing queries"
      ]
    },
    {
      "cell_type": "markdown",
      "metadata": {
        "id": "vXZRiP5d9w6m",
        "colab_type": "text"
      },
      "source": [
        "To obtain similarities of our query document against the nine indexed documents:"
      ]
    },
    {
      "cell_type": "code",
      "metadata": {
        "id": "s1XNaKZt9AeE",
        "colab_type": "code",
        "colab": {
          "base_uri": "https://localhost:8080/",
          "height": 56
        },
        "outputId": "5dd3883d-711a-4da0-f8a2-9e3da95356d2"
      },
      "source": [
        "sims = index[vec_lsi]  # perform a similarity query against the corpus\n",
        "print(list(enumerate(sims)))  # print (document_number, document_similarity) 2-tuples"
      ],
      "execution_count": 37,
      "outputs": [
        {
          "output_type": "stream",
          "text": [
            "[(0, 0.998093), (1, 0.93748635), (2, 0.9984453), (3, 0.9865886), (4, 0.90755945), (5, -0.12416792), (6, -0.10639259), (7, -0.09879464), (8, 0.050041765)]\n"
          ],
          "name": "stdout"
        }
      ]
    },
    {
      "cell_type": "markdown",
      "metadata": {
        "id": "K9Oo3Hpm-I78",
        "colab_type": "text"
      },
      "source": [
        "Cosine measure returns similarities in the range <-1, 1> (the greater, the more similar), so that the first document has a score of 0.99809301 etc.\n",
        "\n",
        "With some standard Python magic we sort these similarities into descending order, and obtain the final answer to the query “Human computer interaction”:"
      ]
    },
    {
      "cell_type": "code",
      "metadata": {
        "id": "z7zWVEsA9ycm",
        "colab_type": "code",
        "colab": {
          "base_uri": "https://localhost:8080/",
          "height": 190
        },
        "outputId": "37c24b3c-2cd8-447b-e738-b81a7003be54"
      },
      "source": [
        "sims = sorted(enumerate(sims), key=lambda item: -item[1])\n",
        "for i, s in enumerate(sims):\n",
        "    print(s, documents[i])"
      ],
      "execution_count": 38,
      "outputs": [
        {
          "output_type": "stream",
          "text": [
            "(2, 0.9984453) Human machine interface for lab abc computer applications\n",
            "(0, 0.998093) A survey of user opinion of computer system response time\n",
            "(3, 0.9865886) The EPS user interface management system\n",
            "(1, 0.93748635) System and human system engineering testing of EPS\n",
            "(4, 0.90755945) Relation of user perceived response time to error measurement\n",
            "(8, 0.050041765) The generation of random binary unordered trees\n",
            "(7, -0.09879464) The intersection graph of paths in trees\n",
            "(6, -0.10639259) Graph minors IV Widths of trees and well quasi ordering\n",
            "(5, -0.12416792) Graph minors A survey\n"
          ],
          "name": "stdout"
        }
      ]
    }
  ]
}