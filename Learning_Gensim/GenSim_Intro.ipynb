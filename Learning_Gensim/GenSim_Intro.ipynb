{
  "nbformat": 4,
  "nbformat_minor": 0,
  "metadata": {
    "colab": {
      "name": "GenSim_Intro.ipynb",
      "provenance": []
    },
    "kernelspec": {
      "name": "python3",
      "display_name": "Python 3"
    }
  },
  "cells": [
    {
      "cell_type": "markdown",
      "metadata": {
        "id": "xGQnha0sf1Ah",
        "colab_type": "text"
      },
      "source": [
        "# Intro to GenSim"
      ]
    },
    {
      "cell_type": "markdown",
      "metadata": {
        "id": "oQ8G_IeVf4js",
        "colab_type": "text"
      },
      "source": [
        "This tutorial introduces Documents, Corpora, Vectors and Models: the basic concepts and terms needed to understand and use gensim."
      ]
    },
    {
      "cell_type": "markdown",
      "metadata": {
        "id": "AQTLytYMf6i3",
        "colab_type": "text"
      },
      "source": [
        "The core concepts of gensim are:\n",
        "\n",
        "    Document: some text.\n",
        "\n",
        "    Corpus: a collection of documents.\n",
        "\n",
        "    Vector: a mathematically convenient representation of a document.\n",
        "\n",
        "    Model: an algorithm for transforming vectors from one representation to another.\n",
        "\n",
        "Let’s examine each of these in slightly more detail."
      ]
    },
    {
      "cell_type": "markdown",
      "metadata": {
        "id": "LkXrWBguf9VW",
        "colab_type": "text"
      },
      "source": [
        "# Document"
      ]
    },
    {
      "cell_type": "markdown",
      "metadata": {
        "id": "c_rZNE3XgAdm",
        "colab_type": "text"
      },
      "source": [
        "In Gensim, a document is an object of the text sequence type (commonly known as str in Python 3). A document could be anything from a short 140 character tweet, a single paragraph (i.e., journal article abstract), a news article, or a book."
      ]
    },
    {
      "cell_type": "code",
      "metadata": {
        "id": "O0mKKJg4fyO1",
        "colab_type": "code",
        "colab": {}
      },
      "source": [
        "document = \"Human machine interface for lab abc computer applications\""
      ],
      "execution_count": 0,
      "outputs": []
    },
    {
      "cell_type": "markdown",
      "metadata": {
        "id": "n4XzFMNegFIN",
        "colab_type": "text"
      },
      "source": [
        "# Corpus"
      ]
    },
    {
      "cell_type": "markdown",
      "metadata": {
        "id": "eTFfY6YNgIfa",
        "colab_type": "text"
      },
      "source": [
        "A corpus is a collection of Document objects. Corpora serve two roles in Gensim:\n",
        "\n",
        "Input for training a Model. During training, the models use this training corpus to look for common themes and topics, initializing their internal model parameters.\n",
        "\n",
        "Gensim focuses on unsupervised models so that no human intervention, such as costly annotations or tagging documents by hand, is required.\n",
        "\n",
        "Documents to organize. After training, a topic model can be used to extract topics from new documents (documents not seen in the training corpus).\n",
        "\n",
        "Such corpora can be indexed for Similarity Queries, queried by semantic similarity, clustered etc.\n",
        "\n",
        "Here is an example corpus. It consists of 9 documents, where each document is a string consisting of a single sentence."
      ]
    },
    {
      "cell_type": "code",
      "metadata": {
        "id": "uPWen44ogFi9",
        "colab_type": "code",
        "colab": {}
      },
      "source": [
        "text_corpus = [\n",
        "    \"Human machine interface for lab abc computer applications\",\n",
        "    \"A survey of user opinion of computer system response time\",\n",
        "    \"The EPS user interface management system\",\n",
        "    \"System and human system engineering testing of EPS\",\n",
        "    \"Relation of user perceived response time to error measurement\",\n",
        "    \"The generation of random binary unordered trees\",\n",
        "    \"The intersection graph of paths in trees\",\n",
        "    \"Graph minors IV Widths of trees and well quasi ordering\",\n",
        "    \"Graph minors A survey\",\n",
        "]"
      ],
      "execution_count": 0,
      "outputs": []
    },
    {
      "cell_type": "markdown",
      "metadata": {
        "id": "N2I_y4b8gR41",
        "colab_type": "text"
      },
      "source": [
        "The above example loads the entire corpus into memory. In practice, corpora may be very large, so loading them into memory may be impossible. Gensim intelligently handles such corpora by streaming them one document at a time. See Corpus Streaming – One Document at a Time for details."
      ]
    },
    {
      "cell_type": "markdown",
      "metadata": {
        "id": "txzed2VAgWBJ",
        "colab_type": "text"
      },
      "source": [
        "This is a particularly small example of a corpus for illustration purposes. Another example could be a list of all the plays written by Shakespeare, list of all wikipedia articles, or all tweets by a particular person of interest.\n",
        "\n",
        "After collecting our corpus, there are typically a number of preprocessing steps we want to undertake. We’ll keep it simple and just remove some commonly used English words (such as ‘the’) and words that occur only once in the corpus. In the process of doing so, we’ll tokenize our data. Tokenization breaks up the documents into words (in this case using space as a delimiter)."
      ]
    },
    {
      "cell_type": "markdown",
      "metadata": {
        "id": "t7WiRlgrgZfN",
        "colab_type": "text"
      },
      "source": [
        "There are better ways to perform preprocessing than just lower-casing and splitting by space. Effective preprocessing is beyond the scope of this tutorial: if you’re interested, check out the gensim.utils.simple_preprocess() function."
      ]
    },
    {
      "cell_type": "code",
      "metadata": {
        "id": "u4APPR-GgjIi",
        "colab_type": "code",
        "colab": {}
      },
      "source": [
        "import pprint"
      ],
      "execution_count": 0,
      "outputs": []
    },
    {
      "cell_type": "code",
      "metadata": {
        "id": "7YHqOxTrgO5h",
        "colab_type": "code",
        "colab": {}
      },
      "source": [
        "# Create a set of frequent words\n",
        "stoplist = set('for a of the and to in'.split(' '))"
      ],
      "execution_count": 0,
      "outputs": []
    },
    {
      "cell_type": "code",
      "metadata": {
        "id": "FURbnYt8gbka",
        "colab_type": "code",
        "colab": {}
      },
      "source": [
        "# Lowercase each document, split it by white space and filter out stopwords\n",
        "texts = [[word for word in document.lower().split() if word not in stoplist]\n",
        "         for document in text_corpus]"
      ],
      "execution_count": 0,
      "outputs": []
    },
    {
      "cell_type": "code",
      "metadata": {
        "id": "otiN3Y8Ggda-",
        "colab_type": "code",
        "colab": {}
      },
      "source": [
        "# Count word frequencies\n",
        "from collections import defaultdict\n",
        "frequency = defaultdict(int)\n",
        "for text in texts:\n",
        "    for token in text:\n",
        "        frequency[token] += 1"
      ],
      "execution_count": 0,
      "outputs": []
    },
    {
      "cell_type": "code",
      "metadata": {
        "id": "dJV3yJlQgfw-",
        "colab_type": "code",
        "colab": {
          "base_uri": "https://localhost:8080/",
          "height": 190
        },
        "outputId": "69c277d4-1ef7-404c-f1e5-da91373741a0"
      },
      "source": [
        "# Only keep words that appear more than once\n",
        "processed_corpus = [[token for token in text if frequency[token] > 1] for text in texts]\n",
        "pprint.pprint(processed_corpus)"
      ],
      "execution_count": 7,
      "outputs": [
        {
          "output_type": "stream",
          "text": [
            "[['human', 'interface', 'computer'],\n",
            " ['survey', 'user', 'computer', 'system', 'response', 'time'],\n",
            " ['eps', 'user', 'interface', 'system'],\n",
            " ['system', 'human', 'system', 'eps'],\n",
            " ['user', 'response', 'time'],\n",
            " ['trees'],\n",
            " ['graph', 'trees'],\n",
            " ['graph', 'minors', 'trees'],\n",
            " ['graph', 'minors', 'survey']]\n"
          ],
          "name": "stdout"
        }
      ]
    },
    {
      "cell_type": "markdown",
      "metadata": {
        "id": "jN8FLRE-gqg8",
        "colab_type": "text"
      },
      "source": [
        "Before proceeding, we want to associate each word in the corpus with a unique integer ID. We can do this using the gensim.corpora.Dictionary class. This dictionary defines the vocabulary of all words that our processing knows about."
      ]
    },
    {
      "cell_type": "code",
      "metadata": {
        "id": "U5WjiK7Wgh7K",
        "colab_type": "code",
        "colab": {}
      },
      "source": [
        "from gensim import corpora"
      ],
      "execution_count": 0,
      "outputs": []
    },
    {
      "cell_type": "code",
      "metadata": {
        "id": "wV2QLHdTo87P",
        "colab_type": "code",
        "colab": {
          "base_uri": "https://localhost:8080/",
          "height": 56
        },
        "outputId": "a95fb6f0-db31-43cb-85ab-a078a9bf6600"
      },
      "source": [
        "print(processed_corpus)"
      ],
      "execution_count": 15,
      "outputs": [
        {
          "output_type": "stream",
          "text": [
            "[['human', 'interface', 'computer'], ['survey', 'user', 'computer', 'system', 'response', 'time'], ['eps', 'user', 'interface', 'system'], ['system', 'human', 'system', 'eps'], ['user', 'response', 'time'], ['trees'], ['graph', 'trees'], ['graph', 'minors', 'trees'], ['graph', 'minors', 'survey']]\n"
          ],
          "name": "stdout"
        }
      ]
    },
    {
      "cell_type": "code",
      "metadata": {
        "id": "8JiRn2lYgt8j",
        "colab_type": "code",
        "colab": {
          "base_uri": "https://localhost:8080/",
          "height": 36
        },
        "outputId": "f46e0f78-b2bc-4be2-f89b-cca518252715"
      },
      "source": [
        "dictionary = corpora.Dictionary(processed_corpus)\n",
        "print(dictionary)"
      ],
      "execution_count": 9,
      "outputs": [
        {
          "output_type": "stream",
          "text": [
            "Dictionary(12 unique tokens: ['computer', 'human', 'interface', 'response', 'survey']...)\n"
          ],
          "name": "stdout"
        }
      ]
    },
    {
      "cell_type": "markdown",
      "metadata": {
        "id": "LDLVkLOtjCpd",
        "colab_type": "text"
      },
      "source": [
        "Because our corpus is small, there are only 12 different tokens in this gensim.corpora.Dictionary. For larger corpuses, dictionaries that contains hundreds of thousands of tokens are quite common."
      ]
    },
    {
      "cell_type": "markdown",
      "metadata": {
        "id": "8vTs1ZAqjK5w",
        "colab_type": "text"
      },
      "source": [
        "# Vector"
      ]
    },
    {
      "cell_type": "markdown",
      "metadata": {
        "id": "iW6C5Vt0jQM0",
        "colab_type": "text"
      },
      "source": [
        "To infer the latent structure in our corpus we need a way to represent documents that we can manipulate mathematically. One approach is to represent each document as a vector of features. For example, a single feature may be thought of as a question-answer pair:\n",
        "\n",
        "    How many times does the word splonge appear in the document? Zero.\n",
        "\n",
        "    How many paragraphs does the document consist of? Two.\n",
        "\n",
        "    How many fonts does the document use? Five.\n",
        "\n",
        "The question is usually represented only by its integer id (such as 1, 2 and 3). The representation of this document then becomes a series of pairs like (1, 0.0), (2, 2.0), (3, 5.0). This is known as a dense vector, because it contains an explicit answer to each of the above questions."
      ]
    },
    {
      "cell_type": "markdown",
      "metadata": {
        "id": "iYvKTmPsjV-H",
        "colab_type": "text"
      },
      "source": [
        "If we know all the questions in advance, we may leave them implicit and simply represent the document as (0, 2, 5). This sequence of answers is the vector for our document (in this case a 3-dimensional dense vector). For practical purposes, only questions to which the answer is (or can be converted to) a single floating point number are allowed in Gensim.\n",
        "\n",
        "In practice, vectors often consist of many zero values. To save memory, Gensim omits all vector elements with value 0.0. The above example thus becomes (2, 2.0), (3, 5.0). This is known as a sparse vector or bag-of-words vector. The values of all missing features in this sparse representation can be unambiguously resolved to zero, 0.0."
      ]
    },
    {
      "cell_type": "markdown",
      "metadata": {
        "id": "jf5kPX7vjaNQ",
        "colab_type": "text"
      },
      "source": [
        "Assuming the questions are the same, we can compare the vectors of two different documents to each other. For example, assume we are given two vectors (0.0, 2.0, 5.0) and (0.1, 1.9, 4.9). Because the vectors are very similar to each other, we can conclude that the documents corresponding to those vectors are similar, too. Of course, the correctness of that conclusion depends on how well we picked the questions in the first place."
      ]
    },
    {
      "cell_type": "markdown",
      "metadata": {
        "id": "rtYd9zlzjchu",
        "colab_type": "text"
      },
      "source": [
        "Another approach to represent a document as a vector is the bag-of-words model. Under the bag-of-words model each document is represented by a vector containing the frequency counts of each word in the dictionary. For example, assume we have a dictionary containing the words ['coffee', 'milk', 'sugar', 'spoon']. A document consisting of the string \"coffee milk coffee\" would then be represented by the vector [2, 1, 0, 0] where the entries of the vector are (in order) the occurrences of “coffee”, “milk”, “sugar” and “spoon” in the document. The length of the vector is the number of entries in the dictionary. One of the main properties of the bag-of-words model is that it completely ignores the order of the tokens in the document that is encoded, which is where the name bag-of-words comes from."
      ]
    },
    {
      "cell_type": "markdown",
      "metadata": {
        "id": "LRb2zMU1jeal",
        "colab_type": "text"
      },
      "source": [
        "Our processed corpus has 12 unique words in it, which means that each document will be represented by a 12-dimensional vector under the bag-of-words model. We can use the dictionary to turn tokenized documents into these 12-dimensional vectors. We can see what these IDs correspond to:"
      ]
    },
    {
      "cell_type": "code",
      "metadata": {
        "id": "152vPMlSgvEg",
        "colab_type": "code",
        "colab": {
          "base_uri": "https://localhost:8080/",
          "height": 247
        },
        "outputId": "5184ed68-5e12-4725-93bf-3fe5aafef497"
      },
      "source": [
        "pprint.pprint(dictionary.token2id)"
      ],
      "execution_count": 10,
      "outputs": [
        {
          "output_type": "stream",
          "text": [
            "{'computer': 0,\n",
            " 'eps': 8,\n",
            " 'graph': 10,\n",
            " 'human': 1,\n",
            " 'interface': 2,\n",
            " 'minors': 11,\n",
            " 'response': 3,\n",
            " 'survey': 4,\n",
            " 'system': 5,\n",
            " 'time': 6,\n",
            " 'trees': 9,\n",
            " 'user': 7}\n"
          ],
          "name": "stdout"
        }
      ]
    },
    {
      "cell_type": "markdown",
      "metadata": {
        "id": "w5UYz1hwjkxY",
        "colab_type": "text"
      },
      "source": [
        "For example, suppose we wanted to vectorize the phrase “Human computer interaction” (note that this phrase was not in our original corpus). We can create the bag-of-word representation for a document using the doc2bow method of the dictionary, which returns a sparse representation of the word counts:"
      ]
    },
    {
      "cell_type": "code",
      "metadata": {
        "id": "SX8LtOOIjgFv",
        "colab_type": "code",
        "colab": {
          "base_uri": "https://localhost:8080/",
          "height": 36
        },
        "outputId": "006cbb48-229b-4030-9399-ed8a524c4300"
      },
      "source": [
        "new_doc = \"Human computer interaction\"\n",
        "new_vec = dictionary.doc2bow(new_doc.lower().split())\n",
        "print(new_vec)"
      ],
      "execution_count": 11,
      "outputs": [
        {
          "output_type": "stream",
          "text": [
            "[(0, 1), (1, 1)]\n"
          ],
          "name": "stdout"
        }
      ]
    },
    {
      "cell_type": "markdown",
      "metadata": {
        "id": "QHUEY7fEjuUz",
        "colab_type": "text"
      },
      "source": [
        "The first entry in each tuple corresponds to the ID of the token in the dictionary, the second corresponds to the count of this token.\n",
        "\n",
        "Note that “interaction” did not occur in the original corpus and so it was not included in the vectorization. Also note that this vector only contains entries for words that actually appeared in the document. Because any given document will only contain a few words out of the many words in the dictionary, words that do not appear in the vectorization are represented as implicitly zero as a space saving measure."
      ]
    },
    {
      "cell_type": "code",
      "metadata": {
        "id": "_ZQkggjTj2ze",
        "colab_type": "code",
        "colab": {
          "base_uri": "https://localhost:8080/",
          "height": 56
        },
        "outputId": "3211f22b-4f3c-4be5-8fff-2d0e65cbdaa2"
      },
      "source": [
        "print(processed_corpus)"
      ],
      "execution_count": 14,
      "outputs": [
        {
          "output_type": "stream",
          "text": [
            "[['human', 'interface', 'computer'], ['survey', 'user', 'computer', 'system', 'response', 'time'], ['eps', 'user', 'interface', 'system'], ['system', 'human', 'system', 'eps'], ['user', 'response', 'time'], ['trees'], ['graph', 'trees'], ['graph', 'minors', 'trees'], ['graph', 'minors', 'survey']]\n"
          ],
          "name": "stdout"
        }
      ]
    },
    {
      "cell_type": "code",
      "metadata": {
        "id": "_3Zq-_dpjmQt",
        "colab_type": "code",
        "colab": {
          "base_uri": "https://localhost:8080/",
          "height": 190
        },
        "outputId": "53eff97e-8f76-4360-d2bc-f2c6dd0adbe1"
      },
      "source": [
        "bow_corpus = [dictionary.doc2bow(text) for text in processed_corpus]\n",
        "pprint.pprint(bow_corpus)"
      ],
      "execution_count": 12,
      "outputs": [
        {
          "output_type": "stream",
          "text": [
            "[[(0, 1), (1, 1), (2, 1)],\n",
            " [(0, 1), (3, 1), (4, 1), (5, 1), (6, 1), (7, 1)],\n",
            " [(2, 1), (5, 1), (7, 1), (8, 1)],\n",
            " [(1, 1), (5, 2), (8, 1)],\n",
            " [(3, 1), (6, 1), (7, 1)],\n",
            " [(9, 1)],\n",
            " [(9, 1), (10, 1)],\n",
            " [(9, 1), (10, 1), (11, 1)],\n",
            " [(4, 1), (10, 1), (11, 1)]]\n"
          ],
          "name": "stdout"
        }
      ]
    },
    {
      "cell_type": "markdown",
      "metadata": {
        "id": "DEJGfCzYkIBF",
        "colab_type": "text"
      },
      "source": [
        "The distinction between a document and a vector is that the former is text, and the latter is a mathematically convenient representation of the text. Sometimes, people will use the terms interchangeably: for example, given some arbitrary document D, instead of saying “the vector that corresponds to document D”, they will just say “the vector D” or the “document D”. This achieves brevity at the cost of ambiguity.\n",
        "\n",
        "As long as you remember that documents exist in document space, and that vectors exist in vector space, the above ambiguity is acceptable."
      ]
    },
    {
      "cell_type": "markdown",
      "metadata": {
        "id": "AXB3M_7LkJN5",
        "colab_type": "text"
      },
      "source": [
        "Depending on how the representation was obtained, two different documents may have the same vector representations."
      ]
    },
    {
      "cell_type": "markdown",
      "metadata": {
        "id": "MQkTVkfHpKGU",
        "colab_type": "text"
      },
      "source": [
        "# Model"
      ]
    },
    {
      "cell_type": "markdown",
      "metadata": {
        "id": "4hENNyMUpN1g",
        "colab_type": "text"
      },
      "source": [
        "Now that we have vectorized our corpus we can begin to transform it using models. We use model as an abstract term referring to a transformation from one document representation to another. In gensim documents are represented as vectors so a model can be thought of as a transformation between two vector spaces. The model learns the details of this transformation during training, when it reads the training Corpus."
      ]
    },
    {
      "cell_type": "markdown",
      "metadata": {
        "id": "V7Z9LuLcpPl2",
        "colab_type": "text"
      },
      "source": [
        "One simple example of a model is tf-idf. The tf-idf model transforms vectors from the bag-of-words representation to a vector space where the frequency counts are weighted according to the relative rarity of each word in the corpus.\n",
        "\n",
        "Here’s a simple example. Let’s initialize the tf-idf model, training it on our corpus and transforming the string “system minors”:"
      ]
    },
    {
      "cell_type": "code",
      "metadata": {
        "id": "kagSAYZ4j2HX",
        "colab_type": "code",
        "colab": {}
      },
      "source": [
        "from gensim import models"
      ],
      "execution_count": 0,
      "outputs": []
    },
    {
      "cell_type": "code",
      "metadata": {
        "id": "GXeqflJWpRV7",
        "colab_type": "code",
        "colab": {}
      },
      "source": [
        "# train the model\n",
        "tfidf = models.TfidfModel(bow_corpus)"
      ],
      "execution_count": 0,
      "outputs": []
    },
    {
      "cell_type": "code",
      "metadata": {
        "id": "4SwVqRsapTUH",
        "colab_type": "code",
        "colab": {}
      },
      "source": [
        "# transform the \"system minors\" string\n",
        "words = \"system minors\".lower().split()"
      ],
      "execution_count": 0,
      "outputs": []
    },
    {
      "cell_type": "code",
      "metadata": {
        "id": "JNLim15TpV4P",
        "colab_type": "code",
        "colab": {
          "base_uri": "https://localhost:8080/",
          "height": 36
        },
        "outputId": "84d37e70-81ab-4d3c-c731-7a6d5e2b6114"
      },
      "source": [
        "print(tfidf[dictionary.doc2bow(words)])"
      ],
      "execution_count": 19,
      "outputs": [
        {
          "output_type": "stream",
          "text": [
            "[(5, 0.5898341626740045), (11, 0.8075244024440723)]\n"
          ],
          "name": "stdout"
        }
      ]
    },
    {
      "cell_type": "markdown",
      "metadata": {
        "id": "nTW_OHo-pdP-",
        "colab_type": "text"
      },
      "source": [
        "The tfidf model again returns a list of tuples, where the first entry is the token ID and the second entry is the tf-idf weighting. Note that the ID corresponding to “system” (which occurred 4 times in the original corpus) has been weighted lower than the ID corresponding to “minors” (which only occurred twice).\n",
        "\n",
        "You can save trained models to disk and later load them back, either to continue training on new training documents or to transform new documents."
      ]
    },
    {
      "cell_type": "markdown",
      "metadata": {
        "id": "Y0m6ipzAqPza",
        "colab_type": "text"
      },
      "source": [
        "Once you’ve created the model, you can do all sorts of cool stuff with it. For example, to transform the whole corpus via TfIdf and index it, in preparation for similarity queries:"
      ]
    },
    {
      "cell_type": "code",
      "metadata": {
        "id": "_YFSi7P2pXX8",
        "colab_type": "code",
        "colab": {}
      },
      "source": [
        "from gensim import similarities\n",
        "\n",
        "index = similarities.SparseMatrixSimilarity(tfidf[bow_corpus], num_features=12)"
      ],
      "execution_count": 0,
      "outputs": []
    },
    {
      "cell_type": "markdown",
      "metadata": {
        "id": "EO9gtgDPqY0z",
        "colab_type": "text"
      },
      "source": [
        "and to query the similarity of our query document query_document against every document in the corpus:"
      ]
    },
    {
      "cell_type": "code",
      "metadata": {
        "id": "CxqnxDFLqWrw",
        "colab_type": "code",
        "colab": {
          "base_uri": "https://localhost:8080/",
          "height": 36
        },
        "outputId": "36544701-efbf-4a6a-9f6b-5760eeea1b9e"
      },
      "source": [
        "query_document = 'system engineering'.split()\n",
        "query_bow = dictionary.doc2bow(query_document)\n",
        "sims = index[tfidf[query_bow]]\n",
        "print(list(enumerate(sims)))"
      ],
      "execution_count": 21,
      "outputs": [
        {
          "output_type": "stream",
          "text": [
            "[(0, 0.0), (1, 0.32448703), (2, 0.41707572), (3, 0.7184812), (4, 0.0), (5, 0.0), (6, 0.0), (7, 0.0), (8, 0.0)]\n"
          ],
          "name": "stdout"
        }
      ]
    },
    {
      "cell_type": "markdown",
      "metadata": {
        "id": "se7EYEBLqh0i",
        "colab_type": "text"
      },
      "source": [
        "How to read this output? Document 3 has a similarity score of 0.718=72%, document 2 has a similarity score of 42% etc. We can make this slightly more readable by sorting:"
      ]
    },
    {
      "cell_type": "code",
      "metadata": {
        "id": "U2WCYnnsqagL",
        "colab_type": "code",
        "colab": {
          "base_uri": "https://localhost:8080/",
          "height": 190
        },
        "outputId": "7e08f87a-8c52-4a8e-a755-f1cf308ff0c2"
      },
      "source": [
        "for document_number, score in sorted(enumerate(sims), key=lambda x: x[1], reverse=True):\n",
        "    print(document_number, score)"
      ],
      "execution_count": 22,
      "outputs": [
        {
          "output_type": "stream",
          "text": [
            "3 0.7184812\n",
            "2 0.41707572\n",
            "1 0.32448703\n",
            "0 0.0\n",
            "4 0.0\n",
            "5 0.0\n",
            "6 0.0\n",
            "7 0.0\n",
            "8 0.0\n"
          ],
          "name": "stdout"
        }
      ]
    },
    {
      "cell_type": "markdown",
      "metadata": {
        "id": "AoRQIhkLqoLL",
        "colab_type": "text"
      },
      "source": [
        "# \n",
        "Summary\n",
        "\n",
        "The core concepts of gensim are:\n",
        "\n",
        "    Document: some text.\n",
        "\n",
        "    Corpus: a collection of documents.\n",
        "\n",
        "    Vector: a mathematically convenient representation of a document.\n",
        "\n",
        "    Model: an algorithm for transforming vectors from one representation to another.\n",
        "\n",
        "We saw these concepts in action. First, we started with a corpus of documents. Next, we transformed these documents to a vector space representation. After that, we created a model that transformed our original vector representation to TfIdf. Finally, we used our model to calculate the similarity between some query document and all documents in the corpus.\n"
      ]
    }
  ]
}