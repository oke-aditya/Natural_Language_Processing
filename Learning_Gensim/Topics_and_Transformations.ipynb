{
  "nbformat": 4,
  "nbformat_minor": 0,
  "metadata": {
    "colab": {
      "name": "Topics_and_Transformations.ipynb",
      "provenance": []
    },
    "kernelspec": {
      "name": "python3",
      "display_name": "Python 3"
    }
  },
  "cells": [
    {
      "cell_type": "markdown",
      "metadata": {
        "id": "vtnb9bksYxa8",
        "colab_type": "text"
      },
      "source": [
        "# Topic Modelling and Transforms in NLP"
      ]
    },
    {
      "cell_type": "markdown",
      "metadata": {
        "id": "XwlQUDk9ayz0",
        "colab_type": "text"
      },
      "source": [
        "This process serves two goals:\n",
        "\n",
        "To bring out hidden structure in the corpus, discover relationships between words and use them to describe the documents in a new and (hopefully) more semantic way.\n",
        "\n",
        "To make the document representation more compact. This both improves efficiency (new representation consumes less resources) and efficacy (marginal data trends are ignored, noise-reduction).\n"
      ]
    },
    {
      "cell_type": "markdown",
      "metadata": {
        "id": "tseBmzR3a00C",
        "colab_type": "text"
      },
      "source": [
        "# Get the Cleaned Data"
      ]
    },
    {
      "cell_type": "code",
      "metadata": {
        "id": "xKVd7Z0gE5ju",
        "colab_type": "code",
        "colab": {}
      },
      "source": [
        "documents = [\n",
        "    \"Human machine interface for lab abc computer applications\",\n",
        "    \"A survey of user opinion of computer system response time\",\n",
        "    \"The EPS user interface management system\",\n",
        "    \"System and human system engineering testing of EPS\",\n",
        "    \"Relation of user perceived response time to error measurement\",\n",
        "    \"The generation of random binary unordered trees\",\n",
        "    \"The intersection graph of paths in trees\",\n",
        "    \"Graph minors IV Widths of trees and well quasi ordering\",\n",
        "    \"Graph minors A survey\",\n",
        "]"
      ],
      "execution_count": 0,
      "outputs": []
    },
    {
      "cell_type": "markdown",
      "metadata": {
        "id": "7EFrZVu2FD7u",
        "colab_type": "text"
      },
      "source": [
        "This is a tiny corpus of nine documents, each consisting of only a single sentence.\n",
        "\n",
        "First, let’s tokenize the documents, remove common words (using a toy stoplist) as well as words that only appear once in the corpus:"
      ]
    },
    {
      "cell_type": "code",
      "metadata": {
        "id": "Ef4F88GFFCJc",
        "colab_type": "code",
        "colab": {}
      },
      "source": [
        "from pprint import pprint \n",
        "from collections import defaultdict"
      ],
      "execution_count": 0,
      "outputs": []
    },
    {
      "cell_type": "code",
      "metadata": {
        "id": "bEjx2JZdFIOQ",
        "colab_type": "code",
        "outputId": "f218c82c-d774-4958-cc37-12290c596d31",
        "colab": {
          "base_uri": "https://localhost:8080/",
          "height": 36
        }
      },
      "source": [
        "stoplist = set('for a of the and in'.split())\n",
        "print(stoplist)"
      ],
      "execution_count": 3,
      "outputs": [
        {
          "output_type": "stream",
          "text": [
            "{'the', 'in', 'and', 'a', 'for', 'of'}\n"
          ],
          "name": "stdout"
        }
      ]
    },
    {
      "cell_type": "code",
      "metadata": {
        "id": "GWOFgTVcFN_y",
        "colab_type": "code",
        "colab": {}
      },
      "source": [
        "texts = []\n",
        "for document in documents:\n",
        "    textl = []\n",
        "    for word in document.lower().split():\n",
        "        if word not in stoplist:\n",
        "            textl.append(word)\n",
        "    \n",
        "    texts.append(textl)"
      ],
      "execution_count": 0,
      "outputs": []
    },
    {
      "cell_type": "code",
      "metadata": {
        "id": "ErVBmnGSFc3Q",
        "colab_type": "code",
        "outputId": "514a9a21-8884-448b-ff9a-a94acbdeb050",
        "colab": {
          "base_uri": "https://localhost:8080/",
          "height": 324
        }
      },
      "source": [
        "pprint(texts)"
      ],
      "execution_count": 5,
      "outputs": [
        {
          "output_type": "stream",
          "text": [
            "[['human', 'machine', 'interface', 'lab', 'abc', 'computer', 'applications'],\n",
            " ['survey', 'user', 'opinion', 'computer', 'system', 'response', 'time'],\n",
            " ['eps', 'user', 'interface', 'management', 'system'],\n",
            " ['system', 'human', 'system', 'engineering', 'testing', 'eps'],\n",
            " ['relation',\n",
            "  'user',\n",
            "  'perceived',\n",
            "  'response',\n",
            "  'time',\n",
            "  'to',\n",
            "  'error',\n",
            "  'measurement'],\n",
            " ['generation', 'random', 'binary', 'unordered', 'trees'],\n",
            " ['intersection', 'graph', 'paths', 'trees'],\n",
            " ['graph', 'minors', 'iv', 'widths', 'trees', 'well', 'quasi', 'ordering'],\n",
            " ['graph', 'minors', 'survey']]\n"
          ],
          "name": "stdout"
        }
      ]
    },
    {
      "cell_type": "code",
      "metadata": {
        "id": "-nhvegmcFgHF",
        "colab_type": "code",
        "colab": {}
      },
      "source": [
        "# remove words that appear only once\n",
        "frequency = defaultdict(int)"
      ],
      "execution_count": 0,
      "outputs": []
    },
    {
      "cell_type": "code",
      "metadata": {
        "id": "cmQtw8z-Fknr",
        "colab_type": "code",
        "colab": {}
      },
      "source": [
        "for text in texts:\n",
        "    for token in text:\n",
        "        frequency[token] += 1"
      ],
      "execution_count": 0,
      "outputs": []
    },
    {
      "cell_type": "code",
      "metadata": {
        "id": "BpEZGYlJGrTt",
        "colab_type": "code",
        "colab": {}
      },
      "source": [
        "texts_final = []"
      ],
      "execution_count": 0,
      "outputs": []
    },
    {
      "cell_type": "code",
      "metadata": {
        "id": "D6cO3EOZF5Fo",
        "colab_type": "code",
        "colab": {}
      },
      "source": [
        "for text in texts:\n",
        "    texts_doc = []\n",
        "    for token in text:\n",
        "        if frequency[token] > 1:\n",
        "            texts_doc.append(token)\n",
        "    texts_final.append(texts_doc)"
      ],
      "execution_count": 0,
      "outputs": []
    },
    {
      "cell_type": "code",
      "metadata": {
        "id": "Vc93WwJQGwax",
        "colab_type": "code",
        "outputId": "d2bf47d5-bfe2-4a41-d8c8-c1396843eecb",
        "colab": {
          "base_uri": "https://localhost:8080/",
          "height": 190
        }
      },
      "source": [
        "pprint(texts_final)"
      ],
      "execution_count": 10,
      "outputs": [
        {
          "output_type": "stream",
          "text": [
            "[['human', 'interface', 'computer'],\n",
            " ['survey', 'user', 'computer', 'system', 'response', 'time'],\n",
            " ['eps', 'user', 'interface', 'system'],\n",
            " ['system', 'human', 'system', 'eps'],\n",
            " ['user', 'response', 'time'],\n",
            " ['trees'],\n",
            " ['graph', 'trees'],\n",
            " ['graph', 'minors', 'trees'],\n",
            " ['graph', 'minors', 'survey']]\n"
          ],
          "name": "stdout"
        }
      ]
    },
    {
      "cell_type": "markdown",
      "metadata": {
        "id": "AJjIBBQPa5pK",
        "colab_type": "text"
      },
      "source": [
        "# Creating a transformation\n",
        "\n",
        "The transformations are standard Python objects, typically initialized by means of a training corpus:"
      ]
    },
    {
      "cell_type": "code",
      "metadata": {
        "id": "ExFrezF-bILt",
        "colab_type": "code",
        "colab": {}
      },
      "source": [
        "from gensim import corpora"
      ],
      "execution_count": 0,
      "outputs": []
    },
    {
      "cell_type": "code",
      "metadata": {
        "id": "OuAH37rYbGdE",
        "colab_type": "code",
        "colab": {}
      },
      "source": [
        "dictionary = corpora.Dictionary(texts_final)\n",
        "corpus = [dictionary.doc2bow(text) for text in texts_final]"
      ],
      "execution_count": 0,
      "outputs": []
    },
    {
      "cell_type": "code",
      "metadata": {
        "id": "qfn3dxWDaZwz",
        "colab_type": "code",
        "colab": {
          "base_uri": "https://localhost:8080/",
          "height": 190
        },
        "outputId": "f6659d20-c065-4b7f-db7c-0565dfb07bae"
      },
      "source": [
        "pprint(texts_final)"
      ],
      "execution_count": 14,
      "outputs": [
        {
          "output_type": "stream",
          "text": [
            "[['human', 'interface', 'computer'],\n",
            " ['survey', 'user', 'computer', 'system', 'response', 'time'],\n",
            " ['eps', 'user', 'interface', 'system'],\n",
            " ['system', 'human', 'system', 'eps'],\n",
            " ['user', 'response', 'time'],\n",
            " ['trees'],\n",
            " ['graph', 'trees'],\n",
            " ['graph', 'minors', 'trees'],\n",
            " ['graph', 'minors', 'survey']]\n"
          ],
          "name": "stdout"
        }
      ]
    },
    {
      "cell_type": "code",
      "metadata": {
        "id": "DKsTlnYKbUtA",
        "colab_type": "code",
        "colab": {
          "base_uri": "https://localhost:8080/",
          "height": 190
        },
        "outputId": "12411056-93dc-4476-e807-8c168d5596c3"
      },
      "source": [
        "pprint(corpus)"
      ],
      "execution_count": 19,
      "outputs": [
        {
          "output_type": "stream",
          "text": [
            "[[(0, 1), (1, 1), (2, 1)],\n",
            " [(0, 1), (3, 1), (4, 1), (5, 1), (6, 1), (7, 1)],\n",
            " [(2, 1), (5, 1), (7, 1), (8, 1)],\n",
            " [(1, 1), (5, 2), (8, 1)],\n",
            " [(3, 1), (6, 1), (7, 1)],\n",
            " [(9, 1)],\n",
            " [(9, 1), (10, 1)],\n",
            " [(9, 1), (10, 1), (11, 1)],\n",
            " [(4, 1), (10, 1), (11, 1)]]\n"
          ],
          "name": "stdout"
        }
      ]
    },
    {
      "cell_type": "code",
      "metadata": {
        "id": "QhL6E79Ja8Vo",
        "colab_type": "code",
        "colab": {}
      },
      "source": [
        "from gensim import models\n",
        "\n",
        "tfidf = models.TfidfModel(corpus)  # step 1 -- initialize a model"
      ],
      "execution_count": 0,
      "outputs": []
    },
    {
      "cell_type": "markdown",
      "metadata": {
        "id": "tWoZXq6FdpVJ",
        "colab_type": "text"
      },
      "source": [
        "We used our old corpus from tutorial 1 to initialize (train) the transformation model. Different transformations may require different initialization parameters; in case of TfIdf, the “training” consists simply of going through the supplied corpus once and computing document frequencies of all its features. Training other models, such as Latent Semantic Analysis or Latent Dirichlet Allocation, is much more involved and, consequently, takes much more time."
      ]
    },
    {
      "cell_type": "markdown",
      "metadata": {
        "id": "k5CqZX7UduQC",
        "colab_type": "text"
      },
      "source": [
        "Transformations always convert between two specific vector spaces. The same vector space (= the same set of feature ids) must be used for training as well as for subsequent vector transformations. Failure to use the same input feature space, such as applying a different string preprocessing, using different feature ids, or using bag-of-words input vectors where TfIdf vectors are expected, will result in feature mismatch during transformation calls and consequently in either garbage output and/or runtime exceptions."
      ]
    },
    {
      "cell_type": "markdown",
      "metadata": {
        "id": "RQMaNI0bdwSx",
        "colab_type": "text"
      },
      "source": [
        "# Transforming vectors\n",
        "\n",
        "From now on, tfidf is treated as a read-only object that can be used to convert any vector from the old representation (bag-of-words integer counts) to the new representation (TfIdf real-valued weights):"
      ]
    },
    {
      "cell_type": "code",
      "metadata": {
        "id": "3y4zrWsbbDj3",
        "colab_type": "code",
        "colab": {
          "base_uri": "https://localhost:8080/",
          "height": 36
        },
        "outputId": "7cf59dcb-2e6c-40e6-eb6d-997011f0069a"
      },
      "source": [
        "doc_bow = [(0, 1), (1, 1)]\n",
        "print(tfidf[doc_bow])  # step 2 -- use the model to transform vectors"
      ],
      "execution_count": 21,
      "outputs": [
        {
          "output_type": "stream",
          "text": [
            "[(0, 0.7071067811865476), (1, 0.7071067811865476)]\n"
          ],
          "name": "stdout"
        }
      ]
    },
    {
      "cell_type": "markdown",
      "metadata": {
        "id": "8Of9b4yQd3mO",
        "colab_type": "text"
      },
      "source": [
        "Or to apply a transformation to a whole corpus:"
      ]
    },
    {
      "cell_type": "code",
      "metadata": {
        "id": "e3jqpSv6d04s",
        "colab_type": "code",
        "colab": {
          "base_uri": "https://localhost:8080/",
          "height": 210
        },
        "outputId": "9de1b04b-e657-43b4-cc2b-0243c77ec43f"
      },
      "source": [
        "corpus_tfidf = tfidf[corpus]\n",
        "for doc in corpus_tfidf:\n",
        "    print(doc)"
      ],
      "execution_count": 22,
      "outputs": [
        {
          "output_type": "stream",
          "text": [
            "[(0, 0.5773502691896257), (1, 0.5773502691896257), (2, 0.5773502691896257)]\n",
            "[(0, 0.44424552527467476), (3, 0.44424552527467476), (4, 0.44424552527467476), (5, 0.3244870206138555), (6, 0.44424552527467476), (7, 0.3244870206138555)]\n",
            "[(2, 0.5710059809418182), (5, 0.4170757362022777), (7, 0.4170757362022777), (8, 0.5710059809418182)]\n",
            "[(1, 0.49182558987264147), (5, 0.7184811607083769), (8, 0.49182558987264147)]\n",
            "[(3, 0.6282580468670046), (6, 0.6282580468670046), (7, 0.45889394536615247)]\n",
            "[(9, 1.0)]\n",
            "[(9, 0.7071067811865475), (10, 0.7071067811865475)]\n",
            "[(9, 0.5080429008916749), (10, 0.5080429008916749), (11, 0.695546419520037)]\n",
            "[(4, 0.6282580468670046), (10, 0.45889394536615247), (11, 0.6282580468670046)]\n"
          ],
          "name": "stdout"
        }
      ]
    },
    {
      "cell_type": "markdown",
      "metadata": {
        "id": "iHcpDq8PeT6P",
        "colab_type": "text"
      },
      "source": [
        "In this particular case, we are transforming the same corpus that we used for training, but this is only incidental. Once the transformation model has been initialized, it can be used on any vectors (provided they come from the same vector space, of course), even if they were not used in the training corpus at all. This is achieved by a process called folding-in for LSA, by topic inference for LDA etc."
      ]
    },
    {
      "cell_type": "markdown",
      "metadata": {
        "id": "0wxGjqbihxBr",
        "colab_type": "text"
      },
      "source": [
        "Calling model[corpus] only creates a wrapper around the old corpus document stream – actual conversions are done on-the-fly, during document iteration. We cannot convert the entire corpus at the time of calling corpus_transformed = model[corpus], because that would mean storing the result in main memory, and that contradicts gensim’s objective of memory-indepedence. If you will be iterating over the transformed corpus_transformed multiple times, and the transformation is costly, serialize the resulting corpus to disk first and continue using that."
      ]
    },
    {
      "cell_type": "markdown",
      "metadata": {
        "id": "IUbn4X1Dh1JN",
        "colab_type": "text"
      },
      "source": [
        "Transformations can also be serialized, one on top of another, in a sort of chain:"
      ]
    },
    {
      "cell_type": "code",
      "metadata": {
        "id": "IpBOBJNHd9Ib",
        "colab_type": "code",
        "colab": {}
      },
      "source": [
        "lsi_model = models.LsiModel(corpus_tfidf, id2word=dictionary, num_topics=2)  # initialize an LSI transformation\n",
        "corpus_lsi = lsi_model[corpus_tfidf]  # create a double wrapper over the original corpus: bow->tfidf->fold-in-lsi"
      ],
      "execution_count": 0,
      "outputs": []
    },
    {
      "cell_type": "markdown",
      "metadata": {
        "id": "JlZhjX2hh6td",
        "colab_type": "text"
      },
      "source": [
        "Here we transformed our Tf-Idf corpus via Latent Semantic Indexing into a latent 2-D space (2-D because we set num_topics=2). Now you’re probably wondering: what do these two latent dimensions stand for? Let’s inspect with models.LsiModel.print_topics():"
      ]
    },
    {
      "cell_type": "code",
      "metadata": {
        "id": "S_IVEVeYh3zs",
        "colab_type": "code",
        "colab": {
          "base_uri": "https://localhost:8080/",
          "height": 114
        },
        "outputId": "d3525e48-2d7f-4836-e9a7-944ebe0a0536"
      },
      "source": [
        "lsi_model.print_topics(2)"
      ],
      "execution_count": 24,
      "outputs": [
        {
          "output_type": "execute_result",
          "data": {
            "text/plain": [
              "[(0,\n",
              "  '0.703*\"trees\" + 0.538*\"graph\" + 0.402*\"minors\" + 0.187*\"survey\" + 0.061*\"system\" + 0.060*\"response\" + 0.060*\"time\" + 0.058*\"user\" + 0.049*\"computer\" + 0.035*\"interface\"'),\n",
              " (1,\n",
              "  '-0.460*\"system\" + -0.373*\"user\" + -0.332*\"eps\" + -0.328*\"interface\" + -0.320*\"response\" + -0.320*\"time\" + -0.293*\"computer\" + -0.280*\"human\" + -0.171*\"survey\" + 0.161*\"trees\"')]"
            ]
          },
          "metadata": {
            "tags": []
          },
          "execution_count": 24
        }
      ]
    },
    {
      "cell_type": "markdown",
      "metadata": {
        "id": "5NXCdOjOiAz2",
        "colab_type": "text"
      },
      "source": [
        "It appears that according to LSI, “trees”, “graph” and “minors” are all related words (and contribute the most to the direction of the first topic), while the second topic practically concerns itself with all the other words. As expected, the first five documents are more strongly related to the second topic while the remaining four documents to the first topic:"
      ]
    },
    {
      "cell_type": "code",
      "metadata": {
        "id": "LK_ZlOc9h8cL",
        "colab_type": "code",
        "colab": {
          "base_uri": "https://localhost:8080/",
          "height": 190
        },
        "outputId": "1b2f1275-44e4-4537-bdfd-d98fb88d0f86"
      },
      "source": [
        "# both bow->tfidf and tfidf->lsi transformations are actually executed here, on the fly\n",
        "for doc, as_text in zip(corpus_lsi, documents):\n",
        "    print(doc, as_text)"
      ],
      "execution_count": 25,
      "outputs": [
        {
          "output_type": "stream",
          "text": [
            "[(0, 0.06600783396090326), (1, -0.5200703306361845)] Human machine interface for lab abc computer applications\n",
            "[(0, 0.19667592859142463), (1, -0.7609563167700055)] A survey of user opinion of computer system response time\n",
            "[(0, 0.08992639972446412), (1, -0.7241860626752503)] The EPS user interface management system\n",
            "[(0, 0.07585847652178157), (1, -0.632055158600342)] System and human system engineering testing of EPS\n",
            "[(0, 0.101502991849801), (1, -0.5737308483002964)] Relation of user perceived response time to error measurement\n",
            "[(0, 0.7032108939378313), (1, 0.1611518021402581)] The generation of random binary unordered trees\n",
            "[(0, 0.8774787673119835), (1, 0.16758906864659395)] The intersection graph of paths in trees\n",
            "[(0, 0.9098624686818582), (1, 0.14086553628718979)] Graph minors IV Widths of trees and well quasi ordering\n",
            "[(0, 0.6165825350569285), (1, -0.05392907566389449)] Graph minors A survey\n"
          ],
          "name": "stdout"
        }
      ]
    },
    {
      "cell_type": "markdown",
      "metadata": {
        "id": "nLb0D-i9kN07",
        "colab_type": "text"
      },
      "source": [
        "# Model persistency \n",
        "\n",
        "- Use the save() and load() functions:"
      ]
    },
    {
      "cell_type": "code",
      "metadata": {
        "id": "XR9Apy8NiC45",
        "colab_type": "code",
        "colab": {
          "base_uri": "https://localhost:8080/",
          "height": 75
        },
        "outputId": "7f67b688-7095-4b3d-e20b-83495f996a09"
      },
      "source": [
        "import os\n",
        "import tempfile\n",
        "\n",
        "with tempfile.NamedTemporaryFile(prefix='model-', suffix='.lsi', delete=False) as tmp:\n",
        "    lsi_model.save(tmp.name)  # same for tfidf, lda, ...\n",
        "\n",
        "loaded_lsi_model = models.LsiModel.load(tmp.name)\n",
        "\n",
        "os.unlink(tmp.name)"
      ],
      "execution_count": 26,
      "outputs": [
        {
          "output_type": "stream",
          "text": [
            "/usr/local/lib/python3.6/dist-packages/smart_open/smart_open_lib.py:253: UserWarning: This function is deprecated, use smart_open.open instead. See the migration notes for details: https://github.com/RaRe-Technologies/smart_open/blob/master/README.rst#migrating-to-the-new-open-function\n",
            "  'See the migration notes for details: %s' % _MIGRATION_NOTES_URL\n"
          ],
          "name": "stderr"
        }
      ]
    },
    {
      "cell_type": "markdown",
      "metadata": {
        "id": "WKAPqakkkVga",
        "colab_type": "text"
      },
      "source": [
        "The next question might be: \n",
        "\n",
        "just how exactly similar are those documents to each other? Is there a way to formalize the similarity, so that for a given input document, we can order some other set of documents according to their similarity? Similarity queries are covered in the next tutorial "
      ]
    },
    {
      "cell_type": "markdown",
      "metadata": {
        "id": "4Wq0TbholIGM",
        "colab_type": "text"
      },
      "source": [
        "# Available transformations\n",
        "\n",
        "Gensim implements several popular Vector Space Model algorithms:\n",
        "\n",
        "**Term Frequency * Inverse Document Frequency**, \n",
        "\n",
        "Tf-Idf expects a bag-of-words (integer values) training corpus during initialization. \n",
        "\n",
        "During transformation, it will take a vector and return another vector of the same dimensionality, except that features which were rare in the training corpus will have their value increased. \n",
        "\n",
        "It therefore converts integer-valued vectors into real-valued ones, while leaving the number of dimensions intact. It can also optionally normalize the resulting vectors to (Euclidean) unit length.\n",
        "\n",
        "``` model = models.TfidfModel(corpus, normalize=True)```\n",
        "\n",
        "**Latent Semantic Indexing, LSI (or sometimes LSA)** \n",
        "\n",
        "transforms documents from either bag-of-words or (preferrably) TfIdf-weighted space into a latent space of a lower dimensionality. \n",
        "\n",
        "For the toy corpus above we used only 2 latent dimensions, but on real corpora, target dimensionality of 200–500 is recommended as a “golden standard” 1.\n",
        "\n",
        "```model = models.LsiModel(tfidf_corpus, id2word=dictionary, num_topics=300```\n",
        "\n",
        "LSI training is unique in that we can continue “training” at any point, simply by providing more training documents. \n",
        "\n",
        "This is done by incremental updates to the underlying model, in a process called online training. Because of this feature, the input document stream may even be infinite – just keep feeding LSI new documents as they arrive, while using the computed transformation model as read-only in the meanwhile!\n",
        "```\n",
        "model.add_documents(another_tfidf_corpus)  # now LSI has been trained on tfidf_corpus + another_tfidf_corpus\n",
        "lsi_vec = model[tfidf_vec]  # convert some new document into the LSI space, without affecting the model\n",
        "\n",
        "model.add_documents(more_documents)  # tfidf_corpus + another_tfidf_corpus + more_documents\n",
        "lsi_vec = model[tfidf_vec]\n",
        "```\n",
        "See the gensim.models.lsimodel documentation for details on how to make LSI gradually “forget” old observations in infinite streams. If you want to get dirty, there are also parameters you can tweak that affect speed vs. memory footprint vs. numerical precision of the LSI algorithm.\n",
        "\n",
        "gensim uses a novel online incremental streamed distributed training algorithm (quite a mouthful!), which I published in 5. gensim also executes a stochastic multi-pass algorithm from Halko et al. 4 internally, to accelerate in-core part of the computations. See also Experiments on the English Wikipedia for further speed-ups by distributing the computation across a cluster of computers.\n",
        "\n",
        "**Random Projections, RP** \n",
        "\n",
        "aim to reduce vector space dimensionality. This is a very efficient (both memory- and CPU-friendly) approach to approximating TfIdf distances between documents, by throwing in a little randomness. Recommended target dimensionality is again in the hundreds/thousands, depending on your dataset.\n",
        "```\n",
        "model = models.RpModel(tfidf_corpus, num_topics=500)\n",
        "```\n",
        "\n",
        "**Latent Dirichlet Allocation, LDA** \n",
        "\n",
        "is yet another transformation from bag-of-words counts into a topic space of lower dimensionality. \n",
        "\n",
        "LDA is a probabilistic extension of LSA (also called multinomial PCA), so LDA’s topics can be interpreted as probability distributions over words.\n",
        "\n",
        "These distributions are, just like with LSA, inferred automatically from a training corpus. Documents are in turn interpreted as a (soft) mixture of these topics (again, just like with LSA).\n",
        "\n",
        "```\n",
        "model = models.LdaModel(corpus, id2word=dictionary, num_topics=100)\n",
        "```\n",
        "\n",
        "gensim uses a fast implementation of online LDA parameter estimation based on 2, modified to run in distributed mode on a cluster of computers.\n",
        "\n",
        "**Hierarchical Dirichlet Process, HDP** \n",
        "\n",
        "is a non-parametric bayesian method (note the missing number of requested topics):\n",
        "```\n",
        "model = models.HdpModel(corpus, id2word=dictionary)\n",
        "```\n",
        "gensim uses a fast, online implementation based on 3. The HDP model is a new addition to gensim, and still rough around its academic edges – use with care.\n",
        "\n",
        "Adding new VSM transformations (such as different weighting schemes) is rather trivial; see the API Reference or directly the Python code for more info and examples."
      ]
    }
  ]
}