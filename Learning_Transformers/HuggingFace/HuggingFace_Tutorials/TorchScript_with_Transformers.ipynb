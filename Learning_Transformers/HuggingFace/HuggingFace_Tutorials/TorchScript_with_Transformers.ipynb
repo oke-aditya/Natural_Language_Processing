{
  "nbformat": 4,
  "nbformat_minor": 0,
  "metadata": {
    "colab": {
      "name": "TorchScript_with_Transformers.ipynb",
      "provenance": []
    },
    "kernelspec": {
      "name": "python3",
      "display_name": "Python 3"
    },
    "widgets": {
      "application/vnd.jupyter.widget-state+json": {
        "2ea1db44d5d440678015d8a33ae861fd": {
          "model_module": "@jupyter-widgets/controls",
          "model_name": "HBoxModel",
          "state": {
            "_view_name": "HBoxView",
            "_dom_classes": [],
            "_model_name": "HBoxModel",
            "_view_module": "@jupyter-widgets/controls",
            "_model_module_version": "1.5.0",
            "_view_count": null,
            "_view_module_version": "1.5.0",
            "box_style": "",
            "layout": "IPY_MODEL_dc0e2d918a084083b38e09eccd715d69",
            "_model_module": "@jupyter-widgets/controls",
            "children": [
              "IPY_MODEL_603f82c8e8814693b9d2625ea2ba1170",
              "IPY_MODEL_b280974f90a24c4cbbfcd7416708610e"
            ]
          }
        },
        "dc0e2d918a084083b38e09eccd715d69": {
          "model_module": "@jupyter-widgets/base",
          "model_name": "LayoutModel",
          "state": {
            "_view_name": "LayoutView",
            "grid_template_rows": null,
            "right": null,
            "justify_content": null,
            "_view_module": "@jupyter-widgets/base",
            "overflow": null,
            "_model_module_version": "1.2.0",
            "_view_count": null,
            "flex_flow": null,
            "width": null,
            "min_width": null,
            "border": null,
            "align_items": null,
            "bottom": null,
            "_model_module": "@jupyter-widgets/base",
            "top": null,
            "grid_column": null,
            "overflow_y": null,
            "overflow_x": null,
            "grid_auto_flow": null,
            "grid_area": null,
            "grid_template_columns": null,
            "flex": null,
            "_model_name": "LayoutModel",
            "justify_items": null,
            "grid_row": null,
            "max_height": null,
            "align_content": null,
            "visibility": null,
            "align_self": null,
            "height": null,
            "min_height": null,
            "padding": null,
            "grid_auto_rows": null,
            "grid_gap": null,
            "max_width": null,
            "order": null,
            "_view_module_version": "1.2.0",
            "grid_template_areas": null,
            "object_position": null,
            "object_fit": null,
            "grid_auto_columns": null,
            "margin": null,
            "display": null,
            "left": null
          }
        },
        "603f82c8e8814693b9d2625ea2ba1170": {
          "model_module": "@jupyter-widgets/controls",
          "model_name": "IntProgressModel",
          "state": {
            "_view_name": "ProgressView",
            "style": "IPY_MODEL_eeea62d5ade6409fa34fd086ba9357a3",
            "_dom_classes": [],
            "description": "Downloading: 100%",
            "_model_name": "IntProgressModel",
            "bar_style": "success",
            "max": 231508,
            "_view_module": "@jupyter-widgets/controls",
            "_model_module_version": "1.5.0",
            "value": 231508,
            "_view_count": null,
            "_view_module_version": "1.5.0",
            "orientation": "horizontal",
            "min": 0,
            "description_tooltip": null,
            "_model_module": "@jupyter-widgets/controls",
            "layout": "IPY_MODEL_8187693e08994d5a9ad2779190027f8b"
          }
        },
        "b280974f90a24c4cbbfcd7416708610e": {
          "model_module": "@jupyter-widgets/controls",
          "model_name": "HTMLModel",
          "state": {
            "_view_name": "HTMLView",
            "style": "IPY_MODEL_58928aa3be6b4eef8b225eaf5caa8091",
            "_dom_classes": [],
            "description": "",
            "_model_name": "HTMLModel",
            "placeholder": "​",
            "_view_module": "@jupyter-widgets/controls",
            "_model_module_version": "1.5.0",
            "value": " 232k/232k [00:00&lt;00:00, 2.00MB/s]",
            "_view_count": null,
            "_view_module_version": "1.5.0",
            "description_tooltip": null,
            "_model_module": "@jupyter-widgets/controls",
            "layout": "IPY_MODEL_5f29801c3a144b3191603436737acc21"
          }
        },
        "eeea62d5ade6409fa34fd086ba9357a3": {
          "model_module": "@jupyter-widgets/controls",
          "model_name": "ProgressStyleModel",
          "state": {
            "_view_name": "StyleView",
            "_model_name": "ProgressStyleModel",
            "description_width": "initial",
            "_view_module": "@jupyter-widgets/base",
            "_model_module_version": "1.5.0",
            "_view_count": null,
            "_view_module_version": "1.2.0",
            "bar_color": null,
            "_model_module": "@jupyter-widgets/controls"
          }
        },
        "8187693e08994d5a9ad2779190027f8b": {
          "model_module": "@jupyter-widgets/base",
          "model_name": "LayoutModel",
          "state": {
            "_view_name": "LayoutView",
            "grid_template_rows": null,
            "right": null,
            "justify_content": null,
            "_view_module": "@jupyter-widgets/base",
            "overflow": null,
            "_model_module_version": "1.2.0",
            "_view_count": null,
            "flex_flow": null,
            "width": null,
            "min_width": null,
            "border": null,
            "align_items": null,
            "bottom": null,
            "_model_module": "@jupyter-widgets/base",
            "top": null,
            "grid_column": null,
            "overflow_y": null,
            "overflow_x": null,
            "grid_auto_flow": null,
            "grid_area": null,
            "grid_template_columns": null,
            "flex": null,
            "_model_name": "LayoutModel",
            "justify_items": null,
            "grid_row": null,
            "max_height": null,
            "align_content": null,
            "visibility": null,
            "align_self": null,
            "height": null,
            "min_height": null,
            "padding": null,
            "grid_auto_rows": null,
            "grid_gap": null,
            "max_width": null,
            "order": null,
            "_view_module_version": "1.2.0",
            "grid_template_areas": null,
            "object_position": null,
            "object_fit": null,
            "grid_auto_columns": null,
            "margin": null,
            "display": null,
            "left": null
          }
        },
        "58928aa3be6b4eef8b225eaf5caa8091": {
          "model_module": "@jupyter-widgets/controls",
          "model_name": "DescriptionStyleModel",
          "state": {
            "_view_name": "StyleView",
            "_model_name": "DescriptionStyleModel",
            "description_width": "",
            "_view_module": "@jupyter-widgets/base",
            "_model_module_version": "1.5.0",
            "_view_count": null,
            "_view_module_version": "1.2.0",
            "_model_module": "@jupyter-widgets/controls"
          }
        },
        "5f29801c3a144b3191603436737acc21": {
          "model_module": "@jupyter-widgets/base",
          "model_name": "LayoutModel",
          "state": {
            "_view_name": "LayoutView",
            "grid_template_rows": null,
            "right": null,
            "justify_content": null,
            "_view_module": "@jupyter-widgets/base",
            "overflow": null,
            "_model_module_version": "1.2.0",
            "_view_count": null,
            "flex_flow": null,
            "width": null,
            "min_width": null,
            "border": null,
            "align_items": null,
            "bottom": null,
            "_model_module": "@jupyter-widgets/base",
            "top": null,
            "grid_column": null,
            "overflow_y": null,
            "overflow_x": null,
            "grid_auto_flow": null,
            "grid_area": null,
            "grid_template_columns": null,
            "flex": null,
            "_model_name": "LayoutModel",
            "justify_items": null,
            "grid_row": null,
            "max_height": null,
            "align_content": null,
            "visibility": null,
            "align_self": null,
            "height": null,
            "min_height": null,
            "padding": null,
            "grid_auto_rows": null,
            "grid_gap": null,
            "max_width": null,
            "order": null,
            "_view_module_version": "1.2.0",
            "grid_template_areas": null,
            "object_position": null,
            "object_fit": null,
            "grid_auto_columns": null,
            "margin": null,
            "display": null,
            "left": null
          }
        },
        "10c56f508b8a4fa6a2f4d7f423a43af4": {
          "model_module": "@jupyter-widgets/controls",
          "model_name": "HBoxModel",
          "state": {
            "_view_name": "HBoxView",
            "_dom_classes": [],
            "_model_name": "HBoxModel",
            "_view_module": "@jupyter-widgets/controls",
            "_model_module_version": "1.5.0",
            "_view_count": null,
            "_view_module_version": "1.5.0",
            "box_style": "",
            "layout": "IPY_MODEL_86a58741d0c443189570d84db7bb4987",
            "_model_module": "@jupyter-widgets/controls",
            "children": [
              "IPY_MODEL_c41dfa003a9249a3b55b0dd90f1ec02c",
              "IPY_MODEL_9cd7383fc9344dc4b380a49e7cfb11ff"
            ]
          }
        },
        "86a58741d0c443189570d84db7bb4987": {
          "model_module": "@jupyter-widgets/base",
          "model_name": "LayoutModel",
          "state": {
            "_view_name": "LayoutView",
            "grid_template_rows": null,
            "right": null,
            "justify_content": null,
            "_view_module": "@jupyter-widgets/base",
            "overflow": null,
            "_model_module_version": "1.2.0",
            "_view_count": null,
            "flex_flow": null,
            "width": null,
            "min_width": null,
            "border": null,
            "align_items": null,
            "bottom": null,
            "_model_module": "@jupyter-widgets/base",
            "top": null,
            "grid_column": null,
            "overflow_y": null,
            "overflow_x": null,
            "grid_auto_flow": null,
            "grid_area": null,
            "grid_template_columns": null,
            "flex": null,
            "_model_name": "LayoutModel",
            "justify_items": null,
            "grid_row": null,
            "max_height": null,
            "align_content": null,
            "visibility": null,
            "align_self": null,
            "height": null,
            "min_height": null,
            "padding": null,
            "grid_auto_rows": null,
            "grid_gap": null,
            "max_width": null,
            "order": null,
            "_view_module_version": "1.2.0",
            "grid_template_areas": null,
            "object_position": null,
            "object_fit": null,
            "grid_auto_columns": null,
            "margin": null,
            "display": null,
            "left": null
          }
        },
        "c41dfa003a9249a3b55b0dd90f1ec02c": {
          "model_module": "@jupyter-widgets/controls",
          "model_name": "IntProgressModel",
          "state": {
            "_view_name": "ProgressView",
            "style": "IPY_MODEL_828d4abec3f14e6e9714630dfa108e09",
            "_dom_classes": [],
            "description": "Downloading: 100%",
            "_model_name": "IntProgressModel",
            "bar_style": "success",
            "max": 433,
            "_view_module": "@jupyter-widgets/controls",
            "_model_module_version": "1.5.0",
            "value": 433,
            "_view_count": null,
            "_view_module_version": "1.5.0",
            "orientation": "horizontal",
            "min": 0,
            "description_tooltip": null,
            "_model_module": "@jupyter-widgets/controls",
            "layout": "IPY_MODEL_53437a62a35b4ff2a285b4818d25d7e7"
          }
        },
        "9cd7383fc9344dc4b380a49e7cfb11ff": {
          "model_module": "@jupyter-widgets/controls",
          "model_name": "HTMLModel",
          "state": {
            "_view_name": "HTMLView",
            "style": "IPY_MODEL_9a19d7b5b556446dbc6db463a7414d38",
            "_dom_classes": [],
            "description": "",
            "_model_name": "HTMLModel",
            "placeholder": "​",
            "_view_module": "@jupyter-widgets/controls",
            "_model_module_version": "1.5.0",
            "value": " 433/433 [00:07&lt;00:00, 57.0B/s]",
            "_view_count": null,
            "_view_module_version": "1.5.0",
            "description_tooltip": null,
            "_model_module": "@jupyter-widgets/controls",
            "layout": "IPY_MODEL_7c924e13cf4f4a2e8b12de57e32ab5db"
          }
        },
        "828d4abec3f14e6e9714630dfa108e09": {
          "model_module": "@jupyter-widgets/controls",
          "model_name": "ProgressStyleModel",
          "state": {
            "_view_name": "StyleView",
            "_model_name": "ProgressStyleModel",
            "description_width": "initial",
            "_view_module": "@jupyter-widgets/base",
            "_model_module_version": "1.5.0",
            "_view_count": null,
            "_view_module_version": "1.2.0",
            "bar_color": null,
            "_model_module": "@jupyter-widgets/controls"
          }
        },
        "53437a62a35b4ff2a285b4818d25d7e7": {
          "model_module": "@jupyter-widgets/base",
          "model_name": "LayoutModel",
          "state": {
            "_view_name": "LayoutView",
            "grid_template_rows": null,
            "right": null,
            "justify_content": null,
            "_view_module": "@jupyter-widgets/base",
            "overflow": null,
            "_model_module_version": "1.2.0",
            "_view_count": null,
            "flex_flow": null,
            "width": null,
            "min_width": null,
            "border": null,
            "align_items": null,
            "bottom": null,
            "_model_module": "@jupyter-widgets/base",
            "top": null,
            "grid_column": null,
            "overflow_y": null,
            "overflow_x": null,
            "grid_auto_flow": null,
            "grid_area": null,
            "grid_template_columns": null,
            "flex": null,
            "_model_name": "LayoutModel",
            "justify_items": null,
            "grid_row": null,
            "max_height": null,
            "align_content": null,
            "visibility": null,
            "align_self": null,
            "height": null,
            "min_height": null,
            "padding": null,
            "grid_auto_rows": null,
            "grid_gap": null,
            "max_width": null,
            "order": null,
            "_view_module_version": "1.2.0",
            "grid_template_areas": null,
            "object_position": null,
            "object_fit": null,
            "grid_auto_columns": null,
            "margin": null,
            "display": null,
            "left": null
          }
        },
        "9a19d7b5b556446dbc6db463a7414d38": {
          "model_module": "@jupyter-widgets/controls",
          "model_name": "DescriptionStyleModel",
          "state": {
            "_view_name": "StyleView",
            "_model_name": "DescriptionStyleModel",
            "description_width": "",
            "_view_module": "@jupyter-widgets/base",
            "_model_module_version": "1.5.0",
            "_view_count": null,
            "_view_module_version": "1.2.0",
            "_model_module": "@jupyter-widgets/controls"
          }
        },
        "7c924e13cf4f4a2e8b12de57e32ab5db": {
          "model_module": "@jupyter-widgets/base",
          "model_name": "LayoutModel",
          "state": {
            "_view_name": "LayoutView",
            "grid_template_rows": null,
            "right": null,
            "justify_content": null,
            "_view_module": "@jupyter-widgets/base",
            "overflow": null,
            "_model_module_version": "1.2.0",
            "_view_count": null,
            "flex_flow": null,
            "width": null,
            "min_width": null,
            "border": null,
            "align_items": null,
            "bottom": null,
            "_model_module": "@jupyter-widgets/base",
            "top": null,
            "grid_column": null,
            "overflow_y": null,
            "overflow_x": null,
            "grid_auto_flow": null,
            "grid_area": null,
            "grid_template_columns": null,
            "flex": null,
            "_model_name": "LayoutModel",
            "justify_items": null,
            "grid_row": null,
            "max_height": null,
            "align_content": null,
            "visibility": null,
            "align_self": null,
            "height": null,
            "min_height": null,
            "padding": null,
            "grid_auto_rows": null,
            "grid_gap": null,
            "max_width": null,
            "order": null,
            "_view_module_version": "1.2.0",
            "grid_template_areas": null,
            "object_position": null,
            "object_fit": null,
            "grid_auto_columns": null,
            "margin": null,
            "display": null,
            "left": null
          }
        },
        "540404a7915943de87dedf44e54bacdb": {
          "model_module": "@jupyter-widgets/controls",
          "model_name": "HBoxModel",
          "state": {
            "_view_name": "HBoxView",
            "_dom_classes": [],
            "_model_name": "HBoxModel",
            "_view_module": "@jupyter-widgets/controls",
            "_model_module_version": "1.5.0",
            "_view_count": null,
            "_view_module_version": "1.5.0",
            "box_style": "",
            "layout": "IPY_MODEL_1bdadbec656641e0b3d693702c5572cd",
            "_model_module": "@jupyter-widgets/controls",
            "children": [
              "IPY_MODEL_07d81c6fcbdf4465961faada8f682fa7",
              "IPY_MODEL_ec81646e97b94ecdbbb784cbee648db7"
            ]
          }
        },
        "1bdadbec656641e0b3d693702c5572cd": {
          "model_module": "@jupyter-widgets/base",
          "model_name": "LayoutModel",
          "state": {
            "_view_name": "LayoutView",
            "grid_template_rows": null,
            "right": null,
            "justify_content": null,
            "_view_module": "@jupyter-widgets/base",
            "overflow": null,
            "_model_module_version": "1.2.0",
            "_view_count": null,
            "flex_flow": null,
            "width": null,
            "min_width": null,
            "border": null,
            "align_items": null,
            "bottom": null,
            "_model_module": "@jupyter-widgets/base",
            "top": null,
            "grid_column": null,
            "overflow_y": null,
            "overflow_x": null,
            "grid_auto_flow": null,
            "grid_area": null,
            "grid_template_columns": null,
            "flex": null,
            "_model_name": "LayoutModel",
            "justify_items": null,
            "grid_row": null,
            "max_height": null,
            "align_content": null,
            "visibility": null,
            "align_self": null,
            "height": null,
            "min_height": null,
            "padding": null,
            "grid_auto_rows": null,
            "grid_gap": null,
            "max_width": null,
            "order": null,
            "_view_module_version": "1.2.0",
            "grid_template_areas": null,
            "object_position": null,
            "object_fit": null,
            "grid_auto_columns": null,
            "margin": null,
            "display": null,
            "left": null
          }
        },
        "07d81c6fcbdf4465961faada8f682fa7": {
          "model_module": "@jupyter-widgets/controls",
          "model_name": "IntProgressModel",
          "state": {
            "_view_name": "ProgressView",
            "style": "IPY_MODEL_1a77b89d830448fc912c31b629d9c96f",
            "_dom_classes": [],
            "description": "Downloading: 100%",
            "_model_name": "IntProgressModel",
            "bar_style": "success",
            "max": 440473133,
            "_view_module": "@jupyter-widgets/controls",
            "_model_module_version": "1.5.0",
            "value": 440473133,
            "_view_count": null,
            "_view_module_version": "1.5.0",
            "orientation": "horizontal",
            "min": 0,
            "description_tooltip": null,
            "_model_module": "@jupyter-widgets/controls",
            "layout": "IPY_MODEL_1799b4946b994d6b9b6670863c1734f3"
          }
        },
        "ec81646e97b94ecdbbb784cbee648db7": {
          "model_module": "@jupyter-widgets/controls",
          "model_name": "HTMLModel",
          "state": {
            "_view_name": "HTMLView",
            "style": "IPY_MODEL_17b43396a43f4d53ba8592e5b61eabae",
            "_dom_classes": [],
            "description": "",
            "_model_name": "HTMLModel",
            "placeholder": "​",
            "_view_module": "@jupyter-widgets/controls",
            "_model_module_version": "1.5.0",
            "value": " 440M/440M [00:07&lt;00:00, 59.8MB/s]",
            "_view_count": null,
            "_view_module_version": "1.5.0",
            "description_tooltip": null,
            "_model_module": "@jupyter-widgets/controls",
            "layout": "IPY_MODEL_72421c6a27f245f5961cc34c304789dd"
          }
        },
        "1a77b89d830448fc912c31b629d9c96f": {
          "model_module": "@jupyter-widgets/controls",
          "model_name": "ProgressStyleModel",
          "state": {
            "_view_name": "StyleView",
            "_model_name": "ProgressStyleModel",
            "description_width": "initial",
            "_view_module": "@jupyter-widgets/base",
            "_model_module_version": "1.5.0",
            "_view_count": null,
            "_view_module_version": "1.2.0",
            "bar_color": null,
            "_model_module": "@jupyter-widgets/controls"
          }
        },
        "1799b4946b994d6b9b6670863c1734f3": {
          "model_module": "@jupyter-widgets/base",
          "model_name": "LayoutModel",
          "state": {
            "_view_name": "LayoutView",
            "grid_template_rows": null,
            "right": null,
            "justify_content": null,
            "_view_module": "@jupyter-widgets/base",
            "overflow": null,
            "_model_module_version": "1.2.0",
            "_view_count": null,
            "flex_flow": null,
            "width": null,
            "min_width": null,
            "border": null,
            "align_items": null,
            "bottom": null,
            "_model_module": "@jupyter-widgets/base",
            "top": null,
            "grid_column": null,
            "overflow_y": null,
            "overflow_x": null,
            "grid_auto_flow": null,
            "grid_area": null,
            "grid_template_columns": null,
            "flex": null,
            "_model_name": "LayoutModel",
            "justify_items": null,
            "grid_row": null,
            "max_height": null,
            "align_content": null,
            "visibility": null,
            "align_self": null,
            "height": null,
            "min_height": null,
            "padding": null,
            "grid_auto_rows": null,
            "grid_gap": null,
            "max_width": null,
            "order": null,
            "_view_module_version": "1.2.0",
            "grid_template_areas": null,
            "object_position": null,
            "object_fit": null,
            "grid_auto_columns": null,
            "margin": null,
            "display": null,
            "left": null
          }
        },
        "17b43396a43f4d53ba8592e5b61eabae": {
          "model_module": "@jupyter-widgets/controls",
          "model_name": "DescriptionStyleModel",
          "state": {
            "_view_name": "StyleView",
            "_model_name": "DescriptionStyleModel",
            "description_width": "",
            "_view_module": "@jupyter-widgets/base",
            "_model_module_version": "1.5.0",
            "_view_count": null,
            "_view_module_version": "1.2.0",
            "_model_module": "@jupyter-widgets/controls"
          }
        },
        "72421c6a27f245f5961cc34c304789dd": {
          "model_module": "@jupyter-widgets/base",
          "model_name": "LayoutModel",
          "state": {
            "_view_name": "LayoutView",
            "grid_template_rows": null,
            "right": null,
            "justify_content": null,
            "_view_module": "@jupyter-widgets/base",
            "overflow": null,
            "_model_module_version": "1.2.0",
            "_view_count": null,
            "flex_flow": null,
            "width": null,
            "min_width": null,
            "border": null,
            "align_items": null,
            "bottom": null,
            "_model_module": "@jupyter-widgets/base",
            "top": null,
            "grid_column": null,
            "overflow_y": null,
            "overflow_x": null,
            "grid_auto_flow": null,
            "grid_area": null,
            "grid_template_columns": null,
            "flex": null,
            "_model_name": "LayoutModel",
            "justify_items": null,
            "grid_row": null,
            "max_height": null,
            "align_content": null,
            "visibility": null,
            "align_self": null,
            "height": null,
            "min_height": null,
            "padding": null,
            "grid_auto_rows": null,
            "grid_gap": null,
            "max_width": null,
            "order": null,
            "_view_module_version": "1.2.0",
            "grid_template_areas": null,
            "object_position": null,
            "object_fit": null,
            "grid_auto_columns": null,
            "margin": null,
            "display": null,
            "left": null
          }
        }
      }
    }
  },
  "cells": [
    {
      "cell_type": "markdown",
      "metadata": {
        "id": "NerylgdOAghT",
        "colab_type": "text"
      },
      "source": [
        "# TorchScript"
      ]
    },
    {
      "cell_type": "markdown",
      "metadata": {
        "id": "WtgSyvC-AjS7",
        "colab_type": "text"
      },
      "source": [
        "“TorchScript is a way to create serializable and optimizable models from PyTorch code”. Pytorch’s two modules JIT and TRACE allow the developer to export their model to be re-used in other programs, such as efficiency-oriented C++ programs."
      ]
    },
    {
      "cell_type": "markdown",
      "metadata": {
        "id": "kVGNU0NDAmvb",
        "colab_type": "text"
      },
      "source": [
        "We have provided an interface that allows the export of transformers models to TorchScript so that they can be reused in a different environment than a Pytorch-based python program. \n",
        "\n",
        "Here we explain how to use our models so that they can be exported, and what to be mindful of when using these models with TorchScript."
      ]
    },
    {
      "cell_type": "markdown",
      "metadata": {
        "id": "p1Gtnxt-Ao4V",
        "colab_type": "text"
      },
      "source": [
        "Exporting a model needs two things:\n",
        "\n",
        "    dummy inputs to execute a model forward pass.\n",
        "\n",
        "    the model needs to be instantiated with the torchscript flag.\n"
      ]
    },
    {
      "cell_type": "markdown",
      "metadata": {
        "id": "JiCeJMIiAq96",
        "colab_type": "text"
      },
      "source": [
        "These necessities imply several things developers should be careful about. These are detailed below."
      ]
    },
    {
      "cell_type": "markdown",
      "metadata": {
        "id": "f8EwwkemAsIZ",
        "colab_type": "text"
      },
      "source": [
        "# TorchScript flag and tied weights"
      ]
    },
    {
      "cell_type": "markdown",
      "metadata": {
        "id": "vHCAAvloAys5",
        "colab_type": "text"
      },
      "source": [
        "This flag is necessary because most of the language models in this repository have tied weights between their Embedding layer and their Decoding layer. \n",
        "\n",
        "TorchScript does not allow the export of models that have tied weights, it is therefore necessary to untie the weights beforehand."
      ]
    },
    {
      "cell_type": "markdown",
      "metadata": {
        "id": "1vu84jbNA1Px",
        "colab_type": "text"
      },
      "source": [
        "This implies that models instantiated with the torchscript flag have their Embedding layer and Decoding layer separate, which means that they should not be trained down the line. \n",
        "\n",
        "Training would de-synchronize the two layers, leading to unexpected results."
      ]
    },
    {
      "cell_type": "markdown",
      "metadata": {
        "id": "u9QCBvZIA4xo",
        "colab_type": "text"
      },
      "source": [
        "This is not the case for models that do not have a Language Model head, as those do not have tied weights.\n",
        "\n",
        "These models can be safely exported without the torchscript flag."
      ]
    },
    {
      "cell_type": "markdown",
      "metadata": {
        "id": "_FHv4bjeA7WV",
        "colab_type": "text"
      },
      "source": [
        "# Dummy inputs and standard lengths"
      ]
    },
    {
      "cell_type": "markdown",
      "metadata": {
        "id": "9zVH5faPBNKH",
        "colab_type": "text"
      },
      "source": [
        "The dummy inputs are used to do a model forward pass. While the inputs’ values are propagating through the layers, Pytorch keeps track of the different operations executed on each tensor. \n",
        "\n",
        "hese recorded operations are then used to create the “trace” of the model."
      ]
    },
    {
      "cell_type": "markdown",
      "metadata": {
        "id": "zTrvOp2dBQEG",
        "colab_type": "text"
      },
      "source": [
        "The trace is created relatively to the inputs’ dimensions. It is therefore constrained by the dimensions of the dummy input, and will not work for any other sequence length or batch size. \n",
        "\n",
        "When trying with a different size, an error such as:\n",
        "\n",
        "``` The expanded size of the tensor (3) must match the existing size (7) at non-singleton dimension 2 ```"
      ]
    },
    {
      "cell_type": "markdown",
      "metadata": {
        "id": "TM89eMyLBXOe",
        "colab_type": "text"
      },
      "source": [
        "will be raised. It is therefore recommended to trace the model with a dummy input size at least as large as the largest input that will be fed to the model during inference. \n",
        "\n",
        "Padding can be performed to fill the missing values. As the model will have been traced with a large input size however, the dimensions of the different matrix will be large as well, resulting in more calculations."
      ]
    },
    {
      "cell_type": "markdown",
      "metadata": {
        "id": "qY2YfDapBaE5",
        "colab_type": "text"
      },
      "source": [
        "It is recommended to be careful of the total number of operations done on each input and to follow performance closely when exporting varying sequence-length models."
      ]
    },
    {
      "cell_type": "markdown",
      "metadata": {
        "id": "2Jh0DVkwIv9O",
        "colab_type": "text"
      },
      "source": [
        "# An Example for torchscript"
      ]
    },
    {
      "cell_type": "markdown",
      "metadata": {
        "id": "_3dMGhJILWoH",
        "colab_type": "text"
      },
      "source": [
        "This snippet shows how to use TorchScript to export a BertModel. \n",
        "\n",
        "Here the BertModel is instantiated according to a BertConfig class and then saved to disk under the filename traced_bert.pt"
      ]
    },
    {
      "cell_type": "markdown",
      "metadata": {
        "id": "rLy6KylXMD9f",
        "colab_type": "text"
      },
      "source": [
        "## Creating Model"
      ]
    },
    {
      "cell_type": "code",
      "metadata": {
        "id": "KVc3Ul98Lj9a",
        "colab_type": "code",
        "colab": {}
      },
      "source": [
        "! pip install -q transformers"
      ],
      "execution_count": 0,
      "outputs": []
    },
    {
      "cell_type": "code",
      "metadata": {
        "id": "p4lQJMwq9zuu",
        "colab_type": "code",
        "colab": {}
      },
      "source": [
        "from transformers import BertModel, BertTokenizer, BertConfig\n",
        "import torch"
      ],
      "execution_count": 0,
      "outputs": []
    },
    {
      "cell_type": "code",
      "metadata": {
        "id": "OBj_220iLa6k",
        "colab_type": "code",
        "colab": {
          "base_uri": "https://localhost:8080/",
          "height": 67,
          "referenced_widgets": [
            "2ea1db44d5d440678015d8a33ae861fd",
            "dc0e2d918a084083b38e09eccd715d69",
            "603f82c8e8814693b9d2625ea2ba1170",
            "b280974f90a24c4cbbfcd7416708610e",
            "eeea62d5ade6409fa34fd086ba9357a3",
            "8187693e08994d5a9ad2779190027f8b",
            "58928aa3be6b4eef8b225eaf5caa8091",
            "5f29801c3a144b3191603436737acc21"
          ]
        },
        "outputId": "093a9542-cc18-4d60-f46f-d5f1d92e746e"
      },
      "source": [
        "enc = BertTokenizer.from_pretrained(\"bert-base-uncased\")"
      ],
      "execution_count": 4,
      "outputs": [
        {
          "output_type": "display_data",
          "data": {
            "application/vnd.jupyter.widget-view+json": {
              "model_id": "2ea1db44d5d440678015d8a33ae861fd",
              "version_minor": 0,
              "version_major": 2
            },
            "text/plain": [
              "HBox(children=(IntProgress(value=0, description='Downloading', max=231508, style=ProgressStyle(description_wid…"
            ]
          },
          "metadata": {
            "tags": []
          }
        },
        {
          "output_type": "stream",
          "text": [
            "\n"
          ],
          "name": "stdout"
        }
      ]
    },
    {
      "cell_type": "code",
      "metadata": {
        "id": "WYw2dD6rLqfL",
        "colab_type": "code",
        "colab": {}
      },
      "source": [
        "# Tokenizing input text\n",
        "text = \"[CLS] Who was Jim Henson ? [SEP] Jim Henson was a puppeteer [SEP]\"\n",
        "tokenized_text = enc.tokenize(text)"
      ],
      "execution_count": 0,
      "outputs": []
    },
    {
      "cell_type": "code",
      "metadata": {
        "id": "77WqbrFuLtCr",
        "colab_type": "code",
        "colab": {}
      },
      "source": [
        "# Masking one of the input tokens\n",
        "masked_index = 8\n",
        "tokenized_text[masked_index] = '[MASK]'\n",
        "indexed_tokens = enc.convert_tokens_to_ids(tokenized_text)\n",
        "segments_ids = [0, 0, 0, 0, 0, 0, 0, 1, 1, 1, 1, 1, 1, 1]"
      ],
      "execution_count": 0,
      "outputs": []
    },
    {
      "cell_type": "code",
      "metadata": {
        "id": "ENKdZHI4LugZ",
        "colab_type": "code",
        "colab": {}
      },
      "source": [
        "# Creating a dummy input\n",
        "tokens_tensor = torch.tensor([indexed_tokens])\n",
        "segments_tensors = torch.tensor([segments_ids])\n",
        "dummy_input = [tokens_tensor, segments_tensors]"
      ],
      "execution_count": 0,
      "outputs": []
    },
    {
      "cell_type": "code",
      "metadata": {
        "id": "kAnl_9TULxIr",
        "colab_type": "code",
        "colab": {}
      },
      "source": [
        "# Initializing the model with the torchscript flag\n",
        "# Flag set to True even though it is not necessary as this model does not have an LM Head.\n",
        "config = BertConfig(vocab_size_or_config_json_file=32000, hidden_size=768,\n",
        "    num_hidden_layers=12, num_attention_heads=12, intermediate_size=3072, torchscript=True)"
      ],
      "execution_count": 0,
      "outputs": []
    },
    {
      "cell_type": "code",
      "metadata": {
        "id": "096a4Q_aLzno",
        "colab_type": "code",
        "colab": {}
      },
      "source": [
        "# Instantiating the model\n",
        "model = BertModel(config)"
      ],
      "execution_count": 0,
      "outputs": []
    },
    {
      "cell_type": "code",
      "metadata": {
        "id": "e4Vr4IuAL2ny",
        "colab_type": "code",
        "colab": {}
      },
      "source": [
        "# The model needs to be in evaluation mode\n",
        "model.eval()"
      ],
      "execution_count": 0,
      "outputs": []
    },
    {
      "cell_type": "code",
      "metadata": {
        "id": "q06juWsEL5Eg",
        "colab_type": "code",
        "colab": {
          "base_uri": "https://localhost:8080/",
          "height": 118,
          "referenced_widgets": [
            "10c56f508b8a4fa6a2f4d7f423a43af4",
            "86a58741d0c443189570d84db7bb4987",
            "c41dfa003a9249a3b55b0dd90f1ec02c",
            "9cd7383fc9344dc4b380a49e7cfb11ff",
            "828d4abec3f14e6e9714630dfa108e09",
            "53437a62a35b4ff2a285b4818d25d7e7",
            "9a19d7b5b556446dbc6db463a7414d38",
            "7c924e13cf4f4a2e8b12de57e32ab5db",
            "540404a7915943de87dedf44e54bacdb",
            "1bdadbec656641e0b3d693702c5572cd",
            "07d81c6fcbdf4465961faada8f682fa7",
            "ec81646e97b94ecdbbb784cbee648db7",
            "1a77b89d830448fc912c31b629d9c96f",
            "1799b4946b994d6b9b6670863c1734f3",
            "17b43396a43f4d53ba8592e5b61eabae",
            "72421c6a27f245f5961cc34c304789dd"
          ]
        },
        "outputId": "e4e4eb6e-143a-4078-a304-bb0d314a9730"
      },
      "source": [
        "# If you are instantiating the model with `from_pretrained` you can also easily set the TorchScript flag\n",
        "model = BertModel.from_pretrained(\"bert-base-uncased\", torchscript=True)"
      ],
      "execution_count": 11,
      "outputs": [
        {
          "output_type": "display_data",
          "data": {
            "application/vnd.jupyter.widget-view+json": {
              "model_id": "10c56f508b8a4fa6a2f4d7f423a43af4",
              "version_minor": 0,
              "version_major": 2
            },
            "text/plain": [
              "HBox(children=(IntProgress(value=0, description='Downloading', max=433, style=ProgressStyle(description_width=…"
            ]
          },
          "metadata": {
            "tags": []
          }
        },
        {
          "output_type": "stream",
          "text": [
            "\n"
          ],
          "name": "stdout"
        },
        {
          "output_type": "display_data",
          "data": {
            "application/vnd.jupyter.widget-view+json": {
              "model_id": "540404a7915943de87dedf44e54bacdb",
              "version_minor": 0,
              "version_major": 2
            },
            "text/plain": [
              "HBox(children=(IntProgress(value=0, description='Downloading', max=440473133, style=ProgressStyle(description_…"
            ]
          },
          "metadata": {
            "tags": []
          }
        },
        {
          "output_type": "stream",
          "text": [
            "\n"
          ],
          "name": "stdout"
        }
      ]
    },
    {
      "cell_type": "code",
      "metadata": {
        "id": "aUpDhfcZL8r5",
        "colab_type": "code",
        "colab": {}
      },
      "source": [
        "# Creating the trace\n",
        "traced_model = torch.jit.trace(model, [tokens_tensor, segments_tensors])\n",
        "torch.jit.save(traced_model, \"traced_bert.pt\")"
      ],
      "execution_count": 0,
      "outputs": []
    },
    {
      "cell_type": "markdown",
      "metadata": {
        "id": "tE-6V4kTMFW3",
        "colab_type": "text"
      },
      "source": [
        "## Loading Saved model"
      ]
    },
    {
      "cell_type": "markdown",
      "metadata": {
        "id": "Ii7HdLu4MHfF",
        "colab_type": "text"
      },
      "source": [
        "This snippet shows how to load the BertModel that was previously saved to disk under the name traced_bert.pt. We are re-using the previously initialised dummy_input."
      ]
    },
    {
      "cell_type": "code",
      "metadata": {
        "id": "omF9cJkWL_wA",
        "colab_type": "code",
        "colab": {}
      },
      "source": [
        "loaded_model = torch.jit.load(\"traced_bert.pt\")\n",
        "loaded_model.eval()"
      ],
      "execution_count": 0,
      "outputs": []
    },
    {
      "cell_type": "markdown",
      "metadata": {
        "id": "gD5vECFRMjLM",
        "colab_type": "text"
      },
      "source": [
        "## Using a traced model for inference"
      ]
    },
    {
      "cell_type": "code",
      "metadata": {
        "id": "DGuRDx9yMgvC",
        "colab_type": "code",
        "colab": {}
      },
      "source": [
        "traced_model(tokens_tensor, segments_tensors)"
      ],
      "execution_count": 0,
      "outputs": []
    }
  ]
}